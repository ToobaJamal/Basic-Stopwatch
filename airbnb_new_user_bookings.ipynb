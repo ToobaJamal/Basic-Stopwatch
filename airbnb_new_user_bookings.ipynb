{
  "nbformat": 4,
  "nbformat_minor": 0,
  "metadata": {
    "accelerator": "GPU",
    "colab": {
      "name": "airbnb-new-user-bookings.ipynb",
      "provenance": [],
      "collapsed_sections": []
    },
    "kernelspec": {
      "display_name": "Python 3 (ipykernel)",
      "language": "python",
      "name": "python3"
    },
    "language_info": {
      "codemirror_mode": {
        "name": "ipython",
        "version": 3
      },
      "file_extension": ".py",
      "mimetype": "text/x-python",
      "name": "python",
      "nbconvert_exporter": "python",
      "pygments_lexer": "ipython3",
      "version": "3.9.7"
    }
  },
  "cells": [
    {
      "cell_type": "code",
      "metadata": {
        "colab": {
          "base_uri": "https://localhost:8080/"
        },
        "id": "XE1uzIBEZzmU",
        "outputId": "25ca311f-b3e8-4333-cc81-29c72971fef3"
      },
      "source": [
        "# Jovian Commit Essentials\n",
        "# Please retain and execute this cell without modifying the contents for `jovian.commit` to work\n",
        "!pip install jovian --upgrade -q\n",
        "import jovian\n",
        "jovian.set_project('airbnb-new-user-bookings')\n",
        "jovian.set_colab_id('1sK2qbZMzyjOqKzWaPny5sHzPlntEP3Sn')"
      ],
      "execution_count": null,
      "outputs": [
        {
          "output_type": "stream",
          "name": "stdout",
          "text": [
            "\u001b[?25l\r\u001b[K     |████▊                           | 10 kB 25.6 MB/s eta 0:00:01\r\u001b[K     |█████████▌                      | 20 kB 23.3 MB/s eta 0:00:01\r\u001b[K     |██████████████▎                 | 30 kB 11.5 MB/s eta 0:00:01\r\u001b[K     |███████████████████             | 40 kB 9.2 MB/s eta 0:00:01\r\u001b[K     |███████████████████████▉        | 51 kB 5.3 MB/s eta 0:00:01\r\u001b[K     |████████████████████████████▋   | 61 kB 5.8 MB/s eta 0:00:01\r\u001b[K     |████████████████████████████████| 68 kB 2.7 MB/s \n",
            "\u001b[?25h  Building wheel for uuid (setup.py) ... \u001b[?25l\u001b[?25hdone\n"
          ]
        }
      ]
    },
    {
      "cell_type": "markdown",
      "metadata": {
        "id": "rJ9GxlG9gcYj"
      },
      "source": [
        "# airbnb-new-user-bookings\n",
        "\n",
        "Use the \"Run\" button to execute the code."
      ]
    },
    {
      "cell_type": "code",
      "metadata": {
        "id": "CalUOIyUgcYm"
      },
      "source": [
        "!pip install jovian --upgrade --quiet"
      ],
      "execution_count": null,
      "outputs": []
    },
    {
      "cell_type": "code",
      "metadata": {
        "id": "DMyPvP7ggcYn"
      },
      "source": [
        "import jovian"
      ],
      "execution_count": null,
      "outputs": []
    },
    {
      "cell_type": "code",
      "metadata": {
        "colab": {
          "base_uri": "https://localhost:8080/",
          "height": 171
        },
        "id": "TU2I6N9OgcYo",
        "outputId": "1cd45296-fd37-4565-b824-c0a96cea2832"
      },
      "source": [
        "# Execute this to save new versions of the notebook\n",
        "jovian.commit(project=\"airbnb-new-user-bookings\")"
      ],
      "execution_count": null,
      "outputs": [
        {
          "name": "stdout",
          "output_type": "stream",
          "text": [
            "[jovian] Detected Colab notebook...\u001b[0m\n",
            "[jovian] Please enter your API key ( from https://jovian.ai/ ):\u001b[0m\n",
            "API KEY: ··········\n"
          ]
        },
        {
          "output_type": "stream",
          "name": "stderr",
          "text": [
            "\u001b[31m[jovian] Error: The current API key is invalid or expired.\u001b[0m\n"
          ]
        },
        {
          "output_type": "stream",
          "name": "stdout",
          "text": [
            "[jovian] Please enter your API key ( from https://jovian.ai/ ):\u001b[0m\n",
            "API KEY: ··········\n",
            "[jovian] Uploading colab notebook to Jovian...\u001b[0m\n",
            "Committed successfully! https://jovian.ai/toobajamal/airbnb-new-user-bookings\n"
          ]
        },
        {
          "output_type": "execute_result",
          "data": {
            "application/vnd.google.colaboratory.intrinsic+json": {
              "type": "string"
            },
            "text/plain": [
              "'https://jovian.ai/toobajamal/airbnb-new-user-bookings'"
            ]
          },
          "metadata": {},
          "execution_count": 4
        }
      ]
    },
    {
      "cell_type": "code",
      "metadata": {
        "colab": {
          "base_uri": "https://localhost:8080/"
        },
        "id": "69i0J46IgcYp",
        "outputId": "5da6efc0-2f20-4d34-a624-4e0b5219db69"
      },
      "source": [
        "!pip install opendatasets --upgrade"
      ],
      "execution_count": null,
      "outputs": [
        {
          "output_type": "stream",
          "name": "stdout",
          "text": [
            "Collecting opendatasets\n",
            "  Downloading opendatasets-0.1.20-py3-none-any.whl (14 kB)\n",
            "Requirement already satisfied: kaggle in /usr/local/lib/python3.7/dist-packages (from opendatasets) (1.5.12)\n",
            "Requirement already satisfied: tqdm in /usr/local/lib/python3.7/dist-packages (from opendatasets) (4.62.0)\n",
            "Requirement already satisfied: click in /usr/local/lib/python3.7/dist-packages (from opendatasets) (7.1.2)\n",
            "Requirement already satisfied: urllib3 in /usr/local/lib/python3.7/dist-packages (from kaggle->opendatasets) (1.24.3)\n",
            "Requirement already satisfied: python-slugify in /usr/local/lib/python3.7/dist-packages (from kaggle->opendatasets) (5.0.2)\n",
            "Requirement already satisfied: six>=1.10 in /usr/local/lib/python3.7/dist-packages (from kaggle->opendatasets) (1.15.0)\n",
            "Requirement already satisfied: certifi in /usr/local/lib/python3.7/dist-packages (from kaggle->opendatasets) (2021.5.30)\n",
            "Requirement already satisfied: python-dateutil in /usr/local/lib/python3.7/dist-packages (from kaggle->opendatasets) (2.8.2)\n",
            "Requirement already satisfied: requests in /usr/local/lib/python3.7/dist-packages (from kaggle->opendatasets) (2.23.0)\n",
            "Requirement already satisfied: text-unidecode>=1.3 in /usr/local/lib/python3.7/dist-packages (from python-slugify->kaggle->opendatasets) (1.3)\n",
            "Requirement already satisfied: idna<3,>=2.5 in /usr/local/lib/python3.7/dist-packages (from requests->kaggle->opendatasets) (2.10)\n",
            "Requirement already satisfied: chardet<4,>=3.0.2 in /usr/local/lib/python3.7/dist-packages (from requests->kaggle->opendatasets) (3.0.4)\n",
            "Installing collected packages: opendatasets\n",
            "Successfully installed opendatasets-0.1.20\n"
          ]
        }
      ]
    },
    {
      "cell_type": "code",
      "metadata": {
        "colab": {
          "base_uri": "https://localhost:8080/"
        },
        "id": "lOBcf_8NQA6K",
        "outputId": "c69c75c5-6fc5-43d6-82b3-3fd66c1e62d6"
      },
      "source": [
        "pip install pandas"
      ],
      "execution_count": null,
      "outputs": [
        {
          "output_type": "stream",
          "name": "stdout",
          "text": [
            "Requirement already satisfied: pandas in /usr/local/lib/python3.7/dist-packages (1.1.5)\n",
            "Requirement already satisfied: python-dateutil>=2.7.3 in /usr/local/lib/python3.7/dist-packages (from pandas) (2.8.2)\n",
            "Requirement already satisfied: numpy>=1.15.4 in /usr/local/lib/python3.7/dist-packages (from pandas) (1.19.5)\n",
            "Requirement already satisfied: pytz>=2017.2 in /usr/local/lib/python3.7/dist-packages (from pandas) (2018.9)\n",
            "Requirement already satisfied: six>=1.5 in /usr/local/lib/python3.7/dist-packages (from python-dateutil>=2.7.3->pandas) (1.15.0)\n"
          ]
        }
      ]
    },
    {
      "cell_type": "markdown",
      "metadata": {
        "id": "1DiI-aMohT1m"
      },
      "source": [
        "# Load the datasets"
      ]
    },
    {
      "cell_type": "code",
      "metadata": {
        "id": "CLxQBmTAgcYq"
      },
      "source": [
        "import os\n",
        "import opendatasets as od\n",
        "import pandas as pd\n",
        "pd.set_option(\"display.max_columns\", 120)\n",
        "pd.set_option(\"display.max_rows\", 120)"
      ],
      "execution_count": null,
      "outputs": []
    },
    {
      "cell_type": "code",
      "metadata": {
        "colab": {
          "base_uri": "https://localhost:8080/"
        },
        "id": "TZsuH5engcYr",
        "outputId": "46b1541b-61db-4b42-d17b-f799428151ed"
      },
      "source": [
        "od.download('https://www.kaggle.com/c/airbnb-recruiting-new-user-bookings')"
      ],
      "execution_count": null,
      "outputs": [
        {
          "output_type": "stream",
          "name": "stdout",
          "text": [
            "Please provide your Kaggle credentials to download this dataset. Learn more: http://bit.ly/kaggle-creds\n",
            "Your Kaggle username: toobajamal\n",
            "Your Kaggle Key: ··········\n",
            "Downloading airbnb-recruiting-new-user-bookings.zip to ./airbnb-recruiting-new-user-bookings\n"
          ]
        },
        {
          "output_type": "stream",
          "name": "stderr",
          "text": [
            "100%|██████████| 64.7M/64.7M [00:00<00:00, 78.6MB/s]\n"
          ]
        },
        {
          "output_type": "stream",
          "name": "stdout",
          "text": [
            "\n",
            "Extracting archive ./airbnb-recruiting-new-user-bookings/airbnb-recruiting-new-user-bookings.zip to ./airbnb-recruiting-new-user-bookings\n"
          ]
        }
      ]
    },
    {
      "cell_type": "code",
      "metadata": {
        "colab": {
          "base_uri": "https://localhost:8080/"
        },
        "id": "J_xioupagcYs",
        "outputId": "c313f7c1-8456-488f-94bc-004e889a69b1"
      },
      "source": [
        "os.listdir('airbnb-recruiting-new-user-bookings')"
      ],
      "execution_count": null,
      "outputs": [
        {
          "output_type": "execute_result",
          "data": {
            "text/plain": [
              "['train_users_2.csv.zip',\n",
              " 'countries.csv.zip',\n",
              " 'sessions.csv.zip',\n",
              " 'age_gender_bkts.csv.zip',\n",
              " 'sample_submission_NDF.csv.zip',\n",
              " 'test_users.csv.zip']"
            ]
          },
          "metadata": {},
          "execution_count": 9
        }
      ]
    },
    {
      "cell_type": "code",
      "metadata": {
        "id": "v4KDoPxIgcYt"
      },
      "source": [
        "train_df = pd.read_csv(\"./airbnb-recruiting-new-user-bookings/train_users_2.csv.zip\")\n",
        "test_df = pd.read_csv(\"./airbnb-recruiting-new-user-bookings/test_users.csv.zip\")\n",
        "sample_submission_df = pd.read_csv(\"./airbnb-recruiting-new-user-bookings/sample_submission_NDF.csv.zip\")"
      ],
      "execution_count": null,
      "outputs": []
    },
    {
      "cell_type": "code",
      "metadata": {
        "colab": {
          "base_uri": "https://localhost:8080/",
          "height": 541
        },
        "id": "DjmBlU0IgcYu",
        "outputId": "b8dc70c7-1a1c-4261-93fb-e896069d5326"
      },
      "source": [
        "train_df"
      ],
      "execution_count": null,
      "outputs": [
        {
          "output_type": "execute_result",
          "data": {
            "text/html": [
              "<div>\n",
              "<style scoped>\n",
              "    .dataframe tbody tr th:only-of-type {\n",
              "        vertical-align: middle;\n",
              "    }\n",
              "\n",
              "    .dataframe tbody tr th {\n",
              "        vertical-align: top;\n",
              "    }\n",
              "\n",
              "    .dataframe thead th {\n",
              "        text-align: right;\n",
              "    }\n",
              "</style>\n",
              "<table border=\"1\" class=\"dataframe\">\n",
              "  <thead>\n",
              "    <tr style=\"text-align: right;\">\n",
              "      <th></th>\n",
              "      <th>id</th>\n",
              "      <th>date_account_created</th>\n",
              "      <th>timestamp_first_active</th>\n",
              "      <th>date_first_booking</th>\n",
              "      <th>gender</th>\n",
              "      <th>age</th>\n",
              "      <th>signup_method</th>\n",
              "      <th>signup_flow</th>\n",
              "      <th>language</th>\n",
              "      <th>affiliate_channel</th>\n",
              "      <th>affiliate_provider</th>\n",
              "      <th>first_affiliate_tracked</th>\n",
              "      <th>signup_app</th>\n",
              "      <th>first_device_type</th>\n",
              "      <th>first_browser</th>\n",
              "      <th>country_destination</th>\n",
              "    </tr>\n",
              "  </thead>\n",
              "  <tbody>\n",
              "    <tr>\n",
              "      <th>0</th>\n",
              "      <td>gxn3p5htnn</td>\n",
              "      <td>2010-06-28</td>\n",
              "      <td>20090319043255</td>\n",
              "      <td>NaN</td>\n",
              "      <td>-unknown-</td>\n",
              "      <td>NaN</td>\n",
              "      <td>facebook</td>\n",
              "      <td>0</td>\n",
              "      <td>en</td>\n",
              "      <td>direct</td>\n",
              "      <td>direct</td>\n",
              "      <td>untracked</td>\n",
              "      <td>Web</td>\n",
              "      <td>Mac Desktop</td>\n",
              "      <td>Chrome</td>\n",
              "      <td>NDF</td>\n",
              "    </tr>\n",
              "    <tr>\n",
              "      <th>1</th>\n",
              "      <td>820tgsjxq7</td>\n",
              "      <td>2011-05-25</td>\n",
              "      <td>20090523174809</td>\n",
              "      <td>NaN</td>\n",
              "      <td>MALE</td>\n",
              "      <td>38.0</td>\n",
              "      <td>facebook</td>\n",
              "      <td>0</td>\n",
              "      <td>en</td>\n",
              "      <td>seo</td>\n",
              "      <td>google</td>\n",
              "      <td>untracked</td>\n",
              "      <td>Web</td>\n",
              "      <td>Mac Desktop</td>\n",
              "      <td>Chrome</td>\n",
              "      <td>NDF</td>\n",
              "    </tr>\n",
              "    <tr>\n",
              "      <th>2</th>\n",
              "      <td>4ft3gnwmtx</td>\n",
              "      <td>2010-09-28</td>\n",
              "      <td>20090609231247</td>\n",
              "      <td>2010-08-02</td>\n",
              "      <td>FEMALE</td>\n",
              "      <td>56.0</td>\n",
              "      <td>basic</td>\n",
              "      <td>3</td>\n",
              "      <td>en</td>\n",
              "      <td>direct</td>\n",
              "      <td>direct</td>\n",
              "      <td>untracked</td>\n",
              "      <td>Web</td>\n",
              "      <td>Windows Desktop</td>\n",
              "      <td>IE</td>\n",
              "      <td>US</td>\n",
              "    </tr>\n",
              "    <tr>\n",
              "      <th>3</th>\n",
              "      <td>bjjt8pjhuk</td>\n",
              "      <td>2011-12-05</td>\n",
              "      <td>20091031060129</td>\n",
              "      <td>2012-09-08</td>\n",
              "      <td>FEMALE</td>\n",
              "      <td>42.0</td>\n",
              "      <td>facebook</td>\n",
              "      <td>0</td>\n",
              "      <td>en</td>\n",
              "      <td>direct</td>\n",
              "      <td>direct</td>\n",
              "      <td>untracked</td>\n",
              "      <td>Web</td>\n",
              "      <td>Mac Desktop</td>\n",
              "      <td>Firefox</td>\n",
              "      <td>other</td>\n",
              "    </tr>\n",
              "    <tr>\n",
              "      <th>4</th>\n",
              "      <td>87mebub9p4</td>\n",
              "      <td>2010-09-14</td>\n",
              "      <td>20091208061105</td>\n",
              "      <td>2010-02-18</td>\n",
              "      <td>-unknown-</td>\n",
              "      <td>41.0</td>\n",
              "      <td>basic</td>\n",
              "      <td>0</td>\n",
              "      <td>en</td>\n",
              "      <td>direct</td>\n",
              "      <td>direct</td>\n",
              "      <td>untracked</td>\n",
              "      <td>Web</td>\n",
              "      <td>Mac Desktop</td>\n",
              "      <td>Chrome</td>\n",
              "      <td>US</td>\n",
              "    </tr>\n",
              "    <tr>\n",
              "      <th>...</th>\n",
              "      <td>...</td>\n",
              "      <td>...</td>\n",
              "      <td>...</td>\n",
              "      <td>...</td>\n",
              "      <td>...</td>\n",
              "      <td>...</td>\n",
              "      <td>...</td>\n",
              "      <td>...</td>\n",
              "      <td>...</td>\n",
              "      <td>...</td>\n",
              "      <td>...</td>\n",
              "      <td>...</td>\n",
              "      <td>...</td>\n",
              "      <td>...</td>\n",
              "      <td>...</td>\n",
              "      <td>...</td>\n",
              "    </tr>\n",
              "    <tr>\n",
              "      <th>213446</th>\n",
              "      <td>zxodksqpep</td>\n",
              "      <td>2014-06-30</td>\n",
              "      <td>20140630235636</td>\n",
              "      <td>NaN</td>\n",
              "      <td>MALE</td>\n",
              "      <td>32.0</td>\n",
              "      <td>basic</td>\n",
              "      <td>0</td>\n",
              "      <td>en</td>\n",
              "      <td>sem-brand</td>\n",
              "      <td>google</td>\n",
              "      <td>omg</td>\n",
              "      <td>Web</td>\n",
              "      <td>Mac Desktop</td>\n",
              "      <td>Safari</td>\n",
              "      <td>NDF</td>\n",
              "    </tr>\n",
              "    <tr>\n",
              "      <th>213447</th>\n",
              "      <td>mhewnxesx9</td>\n",
              "      <td>2014-06-30</td>\n",
              "      <td>20140630235719</td>\n",
              "      <td>NaN</td>\n",
              "      <td>-unknown-</td>\n",
              "      <td>NaN</td>\n",
              "      <td>basic</td>\n",
              "      <td>0</td>\n",
              "      <td>en</td>\n",
              "      <td>direct</td>\n",
              "      <td>direct</td>\n",
              "      <td>linked</td>\n",
              "      <td>Web</td>\n",
              "      <td>Windows Desktop</td>\n",
              "      <td>Chrome</td>\n",
              "      <td>NDF</td>\n",
              "    </tr>\n",
              "    <tr>\n",
              "      <th>213448</th>\n",
              "      <td>6o3arsjbb4</td>\n",
              "      <td>2014-06-30</td>\n",
              "      <td>20140630235754</td>\n",
              "      <td>NaN</td>\n",
              "      <td>-unknown-</td>\n",
              "      <td>32.0</td>\n",
              "      <td>basic</td>\n",
              "      <td>0</td>\n",
              "      <td>en</td>\n",
              "      <td>direct</td>\n",
              "      <td>direct</td>\n",
              "      <td>untracked</td>\n",
              "      <td>Web</td>\n",
              "      <td>Mac Desktop</td>\n",
              "      <td>Firefox</td>\n",
              "      <td>NDF</td>\n",
              "    </tr>\n",
              "    <tr>\n",
              "      <th>213449</th>\n",
              "      <td>jh95kwisub</td>\n",
              "      <td>2014-06-30</td>\n",
              "      <td>20140630235822</td>\n",
              "      <td>NaN</td>\n",
              "      <td>-unknown-</td>\n",
              "      <td>NaN</td>\n",
              "      <td>basic</td>\n",
              "      <td>25</td>\n",
              "      <td>en</td>\n",
              "      <td>other</td>\n",
              "      <td>other</td>\n",
              "      <td>tracked-other</td>\n",
              "      <td>iOS</td>\n",
              "      <td>iPhone</td>\n",
              "      <td>Mobile Safari</td>\n",
              "      <td>NDF</td>\n",
              "    </tr>\n",
              "    <tr>\n",
              "      <th>213450</th>\n",
              "      <td>nw9fwlyb5f</td>\n",
              "      <td>2014-06-30</td>\n",
              "      <td>20140630235824</td>\n",
              "      <td>NaN</td>\n",
              "      <td>-unknown-</td>\n",
              "      <td>NaN</td>\n",
              "      <td>basic</td>\n",
              "      <td>25</td>\n",
              "      <td>en</td>\n",
              "      <td>direct</td>\n",
              "      <td>direct</td>\n",
              "      <td>untracked</td>\n",
              "      <td>iOS</td>\n",
              "      <td>iPhone</td>\n",
              "      <td>-unknown-</td>\n",
              "      <td>NDF</td>\n",
              "    </tr>\n",
              "  </tbody>\n",
              "</table>\n",
              "<p>213451 rows × 16 columns</p>\n",
              "</div>"
            ],
            "text/plain": [
              "                id date_account_created  timestamp_first_active  \\\n",
              "0       gxn3p5htnn           2010-06-28          20090319043255   \n",
              "1       820tgsjxq7           2011-05-25          20090523174809   \n",
              "2       4ft3gnwmtx           2010-09-28          20090609231247   \n",
              "3       bjjt8pjhuk           2011-12-05          20091031060129   \n",
              "4       87mebub9p4           2010-09-14          20091208061105   \n",
              "...            ...                  ...                     ...   \n",
              "213446  zxodksqpep           2014-06-30          20140630235636   \n",
              "213447  mhewnxesx9           2014-06-30          20140630235719   \n",
              "213448  6o3arsjbb4           2014-06-30          20140630235754   \n",
              "213449  jh95kwisub           2014-06-30          20140630235822   \n",
              "213450  nw9fwlyb5f           2014-06-30          20140630235824   \n",
              "\n",
              "       date_first_booking     gender   age signup_method  signup_flow  \\\n",
              "0                     NaN  -unknown-   NaN      facebook            0   \n",
              "1                     NaN       MALE  38.0      facebook            0   \n",
              "2              2010-08-02     FEMALE  56.0         basic            3   \n",
              "3              2012-09-08     FEMALE  42.0      facebook            0   \n",
              "4              2010-02-18  -unknown-  41.0         basic            0   \n",
              "...                   ...        ...   ...           ...          ...   \n",
              "213446                NaN       MALE  32.0         basic            0   \n",
              "213447                NaN  -unknown-   NaN         basic            0   \n",
              "213448                NaN  -unknown-  32.0         basic            0   \n",
              "213449                NaN  -unknown-   NaN         basic           25   \n",
              "213450                NaN  -unknown-   NaN         basic           25   \n",
              "\n",
              "       language affiliate_channel affiliate_provider first_affiliate_tracked  \\\n",
              "0            en            direct             direct               untracked   \n",
              "1            en               seo             google               untracked   \n",
              "2            en            direct             direct               untracked   \n",
              "3            en            direct             direct               untracked   \n",
              "4            en            direct             direct               untracked   \n",
              "...         ...               ...                ...                     ...   \n",
              "213446       en         sem-brand             google                     omg   \n",
              "213447       en            direct             direct                  linked   \n",
              "213448       en            direct             direct               untracked   \n",
              "213449       en             other              other           tracked-other   \n",
              "213450       en            direct             direct               untracked   \n",
              "\n",
              "       signup_app first_device_type  first_browser country_destination  \n",
              "0             Web       Mac Desktop         Chrome                 NDF  \n",
              "1             Web       Mac Desktop         Chrome                 NDF  \n",
              "2             Web   Windows Desktop             IE                  US  \n",
              "3             Web       Mac Desktop        Firefox               other  \n",
              "4             Web       Mac Desktop         Chrome                  US  \n",
              "...           ...               ...            ...                 ...  \n",
              "213446        Web       Mac Desktop         Safari                 NDF  \n",
              "213447        Web   Windows Desktop         Chrome                 NDF  \n",
              "213448        Web       Mac Desktop        Firefox                 NDF  \n",
              "213449        iOS            iPhone  Mobile Safari                 NDF  \n",
              "213450        iOS            iPhone      -unknown-                 NDF  \n",
              "\n",
              "[213451 rows x 16 columns]"
            ]
          },
          "metadata": {},
          "execution_count": 11
        }
      ]
    },
    {
      "cell_type": "code",
      "metadata": {
        "colab": {
          "base_uri": "https://localhost:8080/",
          "height": 575
        },
        "id": "4QQsCgmogcYv",
        "outputId": "fff05ec9-8777-4756-8609-d21831c2089e"
      },
      "source": [
        "test_df"
      ],
      "execution_count": null,
      "outputs": [
        {
          "output_type": "execute_result",
          "data": {
            "text/html": [
              "<div>\n",
              "<style scoped>\n",
              "    .dataframe tbody tr th:only-of-type {\n",
              "        vertical-align: middle;\n",
              "    }\n",
              "\n",
              "    .dataframe tbody tr th {\n",
              "        vertical-align: top;\n",
              "    }\n",
              "\n",
              "    .dataframe thead th {\n",
              "        text-align: right;\n",
              "    }\n",
              "</style>\n",
              "<table border=\"1\" class=\"dataframe\">\n",
              "  <thead>\n",
              "    <tr style=\"text-align: right;\">\n",
              "      <th></th>\n",
              "      <th>id</th>\n",
              "      <th>date_account_created</th>\n",
              "      <th>timestamp_first_active</th>\n",
              "      <th>date_first_booking</th>\n",
              "      <th>gender</th>\n",
              "      <th>age</th>\n",
              "      <th>signup_method</th>\n",
              "      <th>signup_flow</th>\n",
              "      <th>language</th>\n",
              "      <th>affiliate_channel</th>\n",
              "      <th>affiliate_provider</th>\n",
              "      <th>first_affiliate_tracked</th>\n",
              "      <th>signup_app</th>\n",
              "      <th>first_device_type</th>\n",
              "      <th>first_browser</th>\n",
              "    </tr>\n",
              "  </thead>\n",
              "  <tbody>\n",
              "    <tr>\n",
              "      <th>0</th>\n",
              "      <td>5uwns89zht</td>\n",
              "      <td>2014-07-01</td>\n",
              "      <td>20140701000006</td>\n",
              "      <td>NaN</td>\n",
              "      <td>FEMALE</td>\n",
              "      <td>35.0</td>\n",
              "      <td>facebook</td>\n",
              "      <td>0</td>\n",
              "      <td>en</td>\n",
              "      <td>direct</td>\n",
              "      <td>direct</td>\n",
              "      <td>untracked</td>\n",
              "      <td>Moweb</td>\n",
              "      <td>iPhone</td>\n",
              "      <td>Mobile Safari</td>\n",
              "    </tr>\n",
              "    <tr>\n",
              "      <th>1</th>\n",
              "      <td>jtl0dijy2j</td>\n",
              "      <td>2014-07-01</td>\n",
              "      <td>20140701000051</td>\n",
              "      <td>NaN</td>\n",
              "      <td>-unknown-</td>\n",
              "      <td>NaN</td>\n",
              "      <td>basic</td>\n",
              "      <td>0</td>\n",
              "      <td>en</td>\n",
              "      <td>direct</td>\n",
              "      <td>direct</td>\n",
              "      <td>untracked</td>\n",
              "      <td>Moweb</td>\n",
              "      <td>iPhone</td>\n",
              "      <td>Mobile Safari</td>\n",
              "    </tr>\n",
              "    <tr>\n",
              "      <th>2</th>\n",
              "      <td>xx0ulgorjt</td>\n",
              "      <td>2014-07-01</td>\n",
              "      <td>20140701000148</td>\n",
              "      <td>NaN</td>\n",
              "      <td>-unknown-</td>\n",
              "      <td>NaN</td>\n",
              "      <td>basic</td>\n",
              "      <td>0</td>\n",
              "      <td>en</td>\n",
              "      <td>direct</td>\n",
              "      <td>direct</td>\n",
              "      <td>linked</td>\n",
              "      <td>Web</td>\n",
              "      <td>Windows Desktop</td>\n",
              "      <td>Chrome</td>\n",
              "    </tr>\n",
              "    <tr>\n",
              "      <th>3</th>\n",
              "      <td>6c6puo6ix0</td>\n",
              "      <td>2014-07-01</td>\n",
              "      <td>20140701000215</td>\n",
              "      <td>NaN</td>\n",
              "      <td>-unknown-</td>\n",
              "      <td>NaN</td>\n",
              "      <td>basic</td>\n",
              "      <td>0</td>\n",
              "      <td>en</td>\n",
              "      <td>direct</td>\n",
              "      <td>direct</td>\n",
              "      <td>linked</td>\n",
              "      <td>Web</td>\n",
              "      <td>Windows Desktop</td>\n",
              "      <td>IE</td>\n",
              "    </tr>\n",
              "    <tr>\n",
              "      <th>4</th>\n",
              "      <td>czqhjk3yfe</td>\n",
              "      <td>2014-07-01</td>\n",
              "      <td>20140701000305</td>\n",
              "      <td>NaN</td>\n",
              "      <td>-unknown-</td>\n",
              "      <td>NaN</td>\n",
              "      <td>basic</td>\n",
              "      <td>0</td>\n",
              "      <td>en</td>\n",
              "      <td>direct</td>\n",
              "      <td>direct</td>\n",
              "      <td>untracked</td>\n",
              "      <td>Web</td>\n",
              "      <td>Mac Desktop</td>\n",
              "      <td>Safari</td>\n",
              "    </tr>\n",
              "    <tr>\n",
              "      <th>...</th>\n",
              "      <td>...</td>\n",
              "      <td>...</td>\n",
              "      <td>...</td>\n",
              "      <td>...</td>\n",
              "      <td>...</td>\n",
              "      <td>...</td>\n",
              "      <td>...</td>\n",
              "      <td>...</td>\n",
              "      <td>...</td>\n",
              "      <td>...</td>\n",
              "      <td>...</td>\n",
              "      <td>...</td>\n",
              "      <td>...</td>\n",
              "      <td>...</td>\n",
              "      <td>...</td>\n",
              "    </tr>\n",
              "    <tr>\n",
              "      <th>62091</th>\n",
              "      <td>cv0na2lf5a</td>\n",
              "      <td>2014-09-30</td>\n",
              "      <td>20140930235232</td>\n",
              "      <td>NaN</td>\n",
              "      <td>-unknown-</td>\n",
              "      <td>31.0</td>\n",
              "      <td>basic</td>\n",
              "      <td>0</td>\n",
              "      <td>en</td>\n",
              "      <td>direct</td>\n",
              "      <td>direct</td>\n",
              "      <td>untracked</td>\n",
              "      <td>Web</td>\n",
              "      <td>Windows Desktop</td>\n",
              "      <td>IE</td>\n",
              "    </tr>\n",
              "    <tr>\n",
              "      <th>62092</th>\n",
              "      <td>zp8xfonng8</td>\n",
              "      <td>2014-09-30</td>\n",
              "      <td>20140930235306</td>\n",
              "      <td>NaN</td>\n",
              "      <td>-unknown-</td>\n",
              "      <td>NaN</td>\n",
              "      <td>basic</td>\n",
              "      <td>23</td>\n",
              "      <td>ko</td>\n",
              "      <td>direct</td>\n",
              "      <td>direct</td>\n",
              "      <td>untracked</td>\n",
              "      <td>Android</td>\n",
              "      <td>Android Phone</td>\n",
              "      <td>-unknown-</td>\n",
              "    </tr>\n",
              "    <tr>\n",
              "      <th>62093</th>\n",
              "      <td>fa6260ziny</td>\n",
              "      <td>2014-09-30</td>\n",
              "      <td>20140930235408</td>\n",
              "      <td>NaN</td>\n",
              "      <td>-unknown-</td>\n",
              "      <td>NaN</td>\n",
              "      <td>basic</td>\n",
              "      <td>0</td>\n",
              "      <td>de</td>\n",
              "      <td>direct</td>\n",
              "      <td>direct</td>\n",
              "      <td>linked</td>\n",
              "      <td>Web</td>\n",
              "      <td>Windows Desktop</td>\n",
              "      <td>Firefox</td>\n",
              "    </tr>\n",
              "    <tr>\n",
              "      <th>62094</th>\n",
              "      <td>87k0fy4ugm</td>\n",
              "      <td>2014-09-30</td>\n",
              "      <td>20140930235430</td>\n",
              "      <td>NaN</td>\n",
              "      <td>-unknown-</td>\n",
              "      <td>NaN</td>\n",
              "      <td>basic</td>\n",
              "      <td>0</td>\n",
              "      <td>en</td>\n",
              "      <td>sem-brand</td>\n",
              "      <td>google</td>\n",
              "      <td>omg</td>\n",
              "      <td>Web</td>\n",
              "      <td>Mac Desktop</td>\n",
              "      <td>Safari</td>\n",
              "    </tr>\n",
              "    <tr>\n",
              "      <th>62095</th>\n",
              "      <td>9uqfg8txu3</td>\n",
              "      <td>2014-09-30</td>\n",
              "      <td>20140930235901</td>\n",
              "      <td>NaN</td>\n",
              "      <td>FEMALE</td>\n",
              "      <td>49.0</td>\n",
              "      <td>basic</td>\n",
              "      <td>0</td>\n",
              "      <td>en</td>\n",
              "      <td>other</td>\n",
              "      <td>other</td>\n",
              "      <td>tracked-other</td>\n",
              "      <td>Web</td>\n",
              "      <td>Windows Desktop</td>\n",
              "      <td>Chrome</td>\n",
              "    </tr>\n",
              "  </tbody>\n",
              "</table>\n",
              "<p>62096 rows × 15 columns</p>\n",
              "</div>"
            ],
            "text/plain": [
              "               id date_account_created  timestamp_first_active  \\\n",
              "0      5uwns89zht           2014-07-01          20140701000006   \n",
              "1      jtl0dijy2j           2014-07-01          20140701000051   \n",
              "2      xx0ulgorjt           2014-07-01          20140701000148   \n",
              "3      6c6puo6ix0           2014-07-01          20140701000215   \n",
              "4      czqhjk3yfe           2014-07-01          20140701000305   \n",
              "...           ...                  ...                     ...   \n",
              "62091  cv0na2lf5a           2014-09-30          20140930235232   \n",
              "62092  zp8xfonng8           2014-09-30          20140930235306   \n",
              "62093  fa6260ziny           2014-09-30          20140930235408   \n",
              "62094  87k0fy4ugm           2014-09-30          20140930235430   \n",
              "62095  9uqfg8txu3           2014-09-30          20140930235901   \n",
              "\n",
              "       date_first_booking     gender   age signup_method  signup_flow  \\\n",
              "0                     NaN     FEMALE  35.0      facebook            0   \n",
              "1                     NaN  -unknown-   NaN         basic            0   \n",
              "2                     NaN  -unknown-   NaN         basic            0   \n",
              "3                     NaN  -unknown-   NaN         basic            0   \n",
              "4                     NaN  -unknown-   NaN         basic            0   \n",
              "...                   ...        ...   ...           ...          ...   \n",
              "62091                 NaN  -unknown-  31.0         basic            0   \n",
              "62092                 NaN  -unknown-   NaN         basic           23   \n",
              "62093                 NaN  -unknown-   NaN         basic            0   \n",
              "62094                 NaN  -unknown-   NaN         basic            0   \n",
              "62095                 NaN     FEMALE  49.0         basic            0   \n",
              "\n",
              "      language affiliate_channel affiliate_provider first_affiliate_tracked  \\\n",
              "0           en            direct             direct               untracked   \n",
              "1           en            direct             direct               untracked   \n",
              "2           en            direct             direct                  linked   \n",
              "3           en            direct             direct                  linked   \n",
              "4           en            direct             direct               untracked   \n",
              "...        ...               ...                ...                     ...   \n",
              "62091       en            direct             direct               untracked   \n",
              "62092       ko            direct             direct               untracked   \n",
              "62093       de            direct             direct                  linked   \n",
              "62094       en         sem-brand             google                     omg   \n",
              "62095       en             other              other           tracked-other   \n",
              "\n",
              "      signup_app first_device_type  first_browser  \n",
              "0          Moweb            iPhone  Mobile Safari  \n",
              "1          Moweb            iPhone  Mobile Safari  \n",
              "2            Web   Windows Desktop         Chrome  \n",
              "3            Web   Windows Desktop             IE  \n",
              "4            Web       Mac Desktop         Safari  \n",
              "...          ...               ...            ...  \n",
              "62091        Web   Windows Desktop             IE  \n",
              "62092    Android     Android Phone      -unknown-  \n",
              "62093        Web   Windows Desktop        Firefox  \n",
              "62094        Web       Mac Desktop         Safari  \n",
              "62095        Web   Windows Desktop         Chrome  \n",
              "\n",
              "[62096 rows x 15 columns]"
            ]
          },
          "metadata": {},
          "execution_count": 12
        }
      ]
    },
    {
      "cell_type": "markdown",
      "metadata": {
        "id": "4nIvNpb7hb_Q"
      },
      "source": [
        "# Exploratory data analysis\n",
        "Lets gather some meaningful insights from our data"
      ]
    },
    {
      "cell_type": "code",
      "metadata": {
        "id": "YGe4bcqPgcYv"
      },
      "source": [
        "import seaborn as sns\n",
        "import numpy as np\n",
        "import matplotlib.pyplot as plt\n",
        "import matplotlib\n",
        "%matplotlib inline\n",
        "\n",
        "sns.set_style('darkgrid')\n",
        "matplotlib.rcParams['font.size'] = 14\n",
        "matplotlib.rcParams['figure.figsize'] = (10, 8)\n",
        "matplotlib.rcParams['figure.facecolor'] = '#00000000'"
      ],
      "execution_count": null,
      "outputs": []
    },
    {
      "cell_type": "code",
      "metadata": {
        "colab": {
          "base_uri": "https://localhost:8080/"
        },
        "id": "y-ZMjjUcgcYw",
        "outputId": "5d038bfc-ed36-4f00-e118-dcdf06203a96"
      },
      "source": [
        "train_df.isna().sum()"
      ],
      "execution_count": null,
      "outputs": [
        {
          "output_type": "execute_result",
          "data": {
            "text/plain": [
              "id                              0\n",
              "date_account_created            0\n",
              "timestamp_first_active          0\n",
              "date_first_booking         124543\n",
              "gender                          0\n",
              "age                         87990\n",
              "signup_method                   0\n",
              "signup_flow                     0\n",
              "language                        0\n",
              "affiliate_channel               0\n",
              "affiliate_provider              0\n",
              "first_affiliate_tracked      6065\n",
              "signup_app                      0\n",
              "first_device_type               0\n",
              "first_browser                   0\n",
              "country_destination             0\n",
              "dtype: int64"
            ]
          },
          "metadata": {},
          "execution_count": 14
        }
      ]
    },
    {
      "cell_type": "markdown",
      "metadata": {
        "id": "qZJ1UkG_hnoK"
      },
      "source": [
        "Check the proportion of different genders in total number of customers"
      ]
    },
    {
      "cell_type": "code",
      "metadata": {
        "colab": {
          "base_uri": "https://localhost:8080/",
          "height": 173
        },
        "id": "qkeir2VYgcYy",
        "outputId": "c65a186b-c6b9-4839-9dbf-371f45eb2492"
      },
      "source": [
        "gender = train_df.gender.value_counts()\n",
        "gender = pd.DataFrame(gender)\n",
        "gender = gender.reset_index()\n",
        "gender.columns = ['title', 'count']\n",
        "gender"
      ],
      "execution_count": null,
      "outputs": [
        {
          "output_type": "execute_result",
          "data": {
            "text/html": [
              "<div>\n",
              "<style scoped>\n",
              "    .dataframe tbody tr th:only-of-type {\n",
              "        vertical-align: middle;\n",
              "    }\n",
              "\n",
              "    .dataframe tbody tr th {\n",
              "        vertical-align: top;\n",
              "    }\n",
              "\n",
              "    .dataframe thead th {\n",
              "        text-align: right;\n",
              "    }\n",
              "</style>\n",
              "<table border=\"1\" class=\"dataframe\">\n",
              "  <thead>\n",
              "    <tr style=\"text-align: right;\">\n",
              "      <th></th>\n",
              "      <th>title</th>\n",
              "      <th>count</th>\n",
              "    </tr>\n",
              "  </thead>\n",
              "  <tbody>\n",
              "    <tr>\n",
              "      <th>0</th>\n",
              "      <td>-unknown-</td>\n",
              "      <td>95688</td>\n",
              "    </tr>\n",
              "    <tr>\n",
              "      <th>1</th>\n",
              "      <td>FEMALE</td>\n",
              "      <td>63041</td>\n",
              "    </tr>\n",
              "    <tr>\n",
              "      <th>2</th>\n",
              "      <td>MALE</td>\n",
              "      <td>54440</td>\n",
              "    </tr>\n",
              "    <tr>\n",
              "      <th>3</th>\n",
              "      <td>OTHER</td>\n",
              "      <td>282</td>\n",
              "    </tr>\n",
              "  </tbody>\n",
              "</table>\n",
              "</div>"
            ],
            "text/plain": [
              "       title  count\n",
              "0  -unknown-  95688\n",
              "1     FEMALE  63041\n",
              "2       MALE  54440\n",
              "3      OTHER    282"
            ]
          },
          "metadata": {},
          "execution_count": 15
        }
      ]
    },
    {
      "cell_type": "markdown",
      "metadata": {
        "id": "7uson9B3h_ou"
      },
      "source": [
        "Most of the customers have not enclosed their gender. Females are about 5% more than males"
      ]
    },
    {
      "cell_type": "code",
      "metadata": {
        "colab": {
          "base_uri": "https://localhost:8080/",
          "height": 508
        },
        "id": "Xrj88EnegcYz",
        "outputId": "23bbd614-9ada-44f6-f4fe-979f40d095c4"
      },
      "source": [
        "sns.barplot(data=gender, x='title', y='count');"
      ],
      "execution_count": null,
      "outputs": [
        {
          "output_type": "display_data",
          "data": {
            "image/png": "[encoded data removed]",
            "text/plain": [
              "<Figure size 720x576 with 1 Axes>"
            ]
          },
          "metadata": {
            "needs_background": "light"
          }
        }
      ]
    },
    {
      "cell_type": "markdown",
      "metadata": {
        "id": "tyDoguwDiVfr"
      },
      "source": [
        "Check the different age groups of customers"
      ]
    },
    {
      "cell_type": "code",
      "metadata": {
        "colab": {
          "base_uri": "https://localhost:8080/",
          "height": 419
        },
        "id": "fyp7N-fHgcYz",
        "outputId": "d4280607-2698-40c5-e007-fb8b23848abe"
      },
      "source": [
        "age = train_df.age.value_counts()\n",
        "age = pd.DataFrame(age)\n",
        "age = age.reset_index()\n",
        "age.columns = ['age', 'count']\n",
        "age"
      ],
      "execution_count": null,
      "outputs": [
        {
          "output_type": "execute_result",
          "data": {
            "text/html": [
              "<div>\n",
              "<style scoped>\n",
              "    .dataframe tbody tr th:only-of-type {\n",
              "        vertical-align: middle;\n",
              "    }\n",
              "\n",
              "    .dataframe tbody tr th {\n",
              "        vertical-align: top;\n",
              "    }\n",
              "\n",
              "    .dataframe thead th {\n",
              "        text-align: right;\n",
              "    }\n",
              "</style>\n",
              "<table border=\"1\" class=\"dataframe\">\n",
              "  <thead>\n",
              "    <tr style=\"text-align: right;\">\n",
              "      <th></th>\n",
              "      <th>age</th>\n",
              "      <th>count</th>\n",
              "    </tr>\n",
              "  </thead>\n",
              "  <tbody>\n",
              "    <tr>\n",
              "      <th>0</th>\n",
              "      <td>30.0</td>\n",
              "      <td>6124</td>\n",
              "    </tr>\n",
              "    <tr>\n",
              "      <th>1</th>\n",
              "      <td>31.0</td>\n",
              "      <td>6016</td>\n",
              "    </tr>\n",
              "    <tr>\n",
              "      <th>2</th>\n",
              "      <td>29.0</td>\n",
              "      <td>5963</td>\n",
              "    </tr>\n",
              "    <tr>\n",
              "      <th>3</th>\n",
              "      <td>28.0</td>\n",
              "      <td>5939</td>\n",
              "    </tr>\n",
              "    <tr>\n",
              "      <th>4</th>\n",
              "      <td>32.0</td>\n",
              "      <td>5855</td>\n",
              "    </tr>\n",
              "    <tr>\n",
              "      <th>...</th>\n",
              "      <td>...</td>\n",
              "      <td>...</td>\n",
              "    </tr>\n",
              "    <tr>\n",
              "      <th>122</th>\n",
              "      <td>1933.0</td>\n",
              "      <td>1</td>\n",
              "    </tr>\n",
              "    <tr>\n",
              "      <th>123</th>\n",
              "      <td>1942.0</td>\n",
              "      <td>1</td>\n",
              "    </tr>\n",
              "    <tr>\n",
              "      <th>124</th>\n",
              "      <td>112.0</td>\n",
              "      <td>1</td>\n",
              "    </tr>\n",
              "    <tr>\n",
              "      <th>125</th>\n",
              "      <td>1938.0</td>\n",
              "      <td>1</td>\n",
              "    </tr>\n",
              "    <tr>\n",
              "      <th>126</th>\n",
              "      <td>1952.0</td>\n",
              "      <td>1</td>\n",
              "    </tr>\n",
              "  </tbody>\n",
              "</table>\n",
              "<p>127 rows × 2 columns</p>\n",
              "</div>"
            ],
            "text/plain": [
              "        age  count\n",
              "0      30.0   6124\n",
              "1      31.0   6016\n",
              "2      29.0   5963\n",
              "3      28.0   5939\n",
              "4      32.0   5855\n",
              "..      ...    ...\n",
              "122  1933.0      1\n",
              "123  1942.0      1\n",
              "124   112.0      1\n",
              "125  1938.0      1\n",
              "126  1952.0      1\n",
              "\n",
              "[127 rows x 2 columns]"
            ]
          },
          "metadata": {},
          "execution_count": 17
        }
      ]
    },
    {
      "cell_type": "markdown",
      "metadata": {
        "id": "_BfWMCzxid4T"
      },
      "source": [
        "Most of the customers are 31 years of age. However, the data seems to have a lot of outliers"
      ]
    },
    {
      "cell_type": "code",
      "metadata": {
        "colab": {
          "base_uri": "https://localhost:8080/",
          "height": 540
        },
        "id": "cmxmZsKzgcY0",
        "outputId": "c1bac93e-d981-4588-9470-333bf3efff6d"
      },
      "source": [
        "plt.xticks(rotation=45)\n",
        "sns.barplot(data=age.head(25), x='age', y='count')"
      ],
      "execution_count": null,
      "outputs": [
        {
          "output_type": "execute_result",
          "data": {
            "text/plain": [
              "<matplotlib.axes._subplots.AxesSubplot at 0x7fa84704d750>"
            ]
          },
          "metadata": {},
          "execution_count": 18
        },
        {
          "output_type": "display_data",
          "data": {
            "image/png": "[encoded data removed]",
            "text/plain": [
              "<Figure size 720x576 with 1 Axes>"
            ]
          },
          "metadata": {
            "needs_background": "light"
          }
        }
      ]
    },
    {
      "cell_type": "markdown",
      "metadata": {
        "id": "ZsrZo-m1itNJ"
      },
      "source": [
        "Lets check the signup method customers use for airbnb booking"
      ]
    },
    {
      "cell_type": "code",
      "metadata": {
        "colab": {
          "base_uri": "https://localhost:8080/",
          "height": 509
        },
        "id": "_hf-VmcZgcY0",
        "outputId": "e3422c8f-64c7-41d6-cd08-c3071e5b16b9"
      },
      "source": [
        "signup_df = train_df.signup_method.value_counts()\n",
        "signup_df = pd.DataFrame(signup_df)\n",
        "signup_df = signup_df.reset_index()\n",
        "signup_df.columns = ['signup_method', 'count']\n",
        "sns.barplot(data=signup_df, x=\"signup_method\", y=\"count\");"
      ],
      "execution_count": null,
      "outputs": [
        {
          "output_type": "display_data",
          "data": {
            "image/png": "[encoded data removed]",
            "text/plain": [
              "<Figure size 720x576 with 1 Axes>"
            ]
          },
          "metadata": {
            "needs_background": "light"
          }
        }
      ]
    },
    {
      "cell_type": "markdown",
      "metadata": {
        "id": "GZcoKNbLi1nK"
      },
      "source": [
        "most of the customers use basic signup method"
      ]
    },
    {
      "cell_type": "markdown",
      "metadata": {
        "id": "bgmZjSvni8H9"
      },
      "source": [
        "Lets check the language preference of customers now"
      ]
    },
    {
      "cell_type": "code",
      "metadata": {
        "colab": {
          "base_uri": "https://localhost:8080/",
          "height": 522
        },
        "id": "ZxsxnSwngcY1",
        "outputId": "8acf7dbd-9f04-4c29-e6cc-1eea8ad328d3"
      },
      "source": [
        "lan_df = train_df.language.value_counts()\n",
        "lan_df = pd.DataFrame(lan_df)\n",
        "lan_df = lan_df.reset_index()\n",
        "lan_df.columns = ['language', 'count']\n",
        "sns.barplot(data=lan_df, x=\"language\", y=\"count\")"
      ],
      "execution_count": null,
      "outputs": [
        {
          "output_type": "execute_result",
          "data": {
            "text/plain": [
              "<matplotlib.axes._subplots.AxesSubplot at 0x7fa846a44110>"
            ]
          },
          "metadata": {},
          "execution_count": 20
        },
        {
          "output_type": "display_data",
          "data": {
            "image/png": "[encoded data removed]",
            "text/plain": [
              "<Figure size 720x576 with 1 Axes>"
            ]
          },
          "metadata": {
            "needs_background": "light"
          }
        }
      ]
    },
    {
      "cell_type": "markdown",
      "metadata": {
        "id": "EkzMmCXujBLh"
      },
      "source": [
        "About 200000 customers in training data have preferred english. Others are quite a few in ratio"
      ]
    },
    {
      "cell_type": "markdown",
      "metadata": {
        "id": "-ssWHT71jLP9"
      },
      "source": [
        "Lets have a look on affiliate channels now"
      ]
    },
    {
      "cell_type": "code",
      "metadata": {
        "colab": {
          "base_uri": "https://localhost:8080/",
          "height": 576
        },
        "id": "1Cb7OMHjgcY1",
        "outputId": "083874bc-b926-4bbc-a6f6-eb93224b62fc"
      },
      "source": [
        "channel_df = train_df.affiliate_channel.value_counts()\n",
        "channel_df = pd.DataFrame(channel_df)\n",
        "channel_df = channel_df.reset_index()\n",
        "channel_df.columns = ['affiliate_channel', 'count']\n",
        "sns.barplot(data=channel_df, x=\"affiliate_channel\", y=\"count\");\n",
        "plt.xticks(rotation=45);"
      ],
      "execution_count": null,
      "outputs": [
        {
          "output_type": "display_data",
          "data": {
            "image/png": "[encoded data removed]",
            "text/plain": [
              "<Figure size 720x576 with 1 Axes>"
            ]
          },
          "metadata": {
            "needs_background": "light"
          }
        }
      ]
    },
    {
      "cell_type": "markdown",
      "metadata": {
        "id": "G9x-RRhejT3K"
      },
      "source": [
        "Most customers come direct for bookings on airbnb website"
      ]
    },
    {
      "cell_type": "markdown",
      "metadata": {
        "id": "V-UtG9P3jZiX"
      },
      "source": [
        "Similarly, check affiliate providers now"
      ]
    },
    {
      "cell_type": "code",
      "metadata": {
        "colab": {
          "base_uri": "https://localhost:8080/",
          "height": 641
        },
        "id": "fK6GA7oJgcY2",
        "outputId": "3fcaa7ae-61ff-4e08-c1ff-2298deeb1ef5"
      },
      "source": [
        "provider_df = train_df.affiliate_provider.value_counts()\n",
        "provider_df = pd.DataFrame(provider_df)\n",
        "provider_df = provider_df.reset_index()\n",
        "provider_df.columns = ['affiliate_provider', 'count']\n",
        "sns.barplot(data=provider_df, x=\"affiliate_provider\", y=\"count\");\n",
        "plt.xticks(rotation=90);"
      ],
      "execution_count": null,
      "outputs": [
        {
          "output_type": "display_data",
          "data": {
            "image/png": "[encoded data removed]",
            "text/plain": [
              "<Figure size 720x576 with 1 Axes>"
            ]
          },
          "metadata": {
            "needs_background": "light"
          }
        }
      ]
    },
    {
      "cell_type": "markdown",
      "metadata": {
        "id": "l5aNOYr9jfi4"
      },
      "source": [
        "Direct has the most ratio then comes google"
      ]
    },
    {
      "cell_type": "markdown",
      "metadata": {
        "id": "GfaZZ1JfjkeN"
      },
      "source": [
        "Now lets check the app people use to signup on airbnb"
      ]
    },
    {
      "cell_type": "code",
      "metadata": {
        "colab": {
          "base_uri": "https://localhost:8080/",
          "height": 505
        },
        "id": "EJO8679kgcY2",
        "outputId": "bcb1c820-5bd0-4668-b64b-d7962a06d357"
      },
      "source": [
        "signup_app_df = train_df.signup_app.value_counts()\n",
        "signup_app_df = pd.DataFrame(signup_app_df)\n",
        "signup_app_df = signup_app_df.reset_index()\n",
        "signup_app_df.columns = ['signup_app', 'count']\n",
        "sns.barplot(data=signup_app_df, x=\"signup_app\", y=\"count\");"
      ],
      "execution_count": null,
      "outputs": [
        {
          "output_type": "display_data",
          "data": {
            "image/png": "[encoded data removed]",
            "text/plain": [
              "<Figure size 720x576 with 1 Axes>"
            ]
          },
          "metadata": {
            "needs_background": "light"
          }
        }
      ]
    },
    {
      "cell_type": "markdown",
      "metadata": {
        "id": "feWmPo0Bjpan"
      },
      "source": [
        "Web is most popular among airbnb customers to signup. Then comes iOs, mobile web and Android"
      ]
    },
    {
      "cell_type": "markdown",
      "metadata": {
        "id": "8qrvYGu0jyMK"
      },
      "source": [
        "Device used when customers first visit the airbnb website?"
      ]
    },
    {
      "cell_type": "code",
      "metadata": {
        "colab": {
          "base_uri": "https://localhost:8080/",
          "height": 632
        },
        "id": "ftrAenHigcY3",
        "outputId": "44c83f75-39b5-483a-ce5b-03767295c7fd"
      },
      "source": [
        "first_device_type_df = train_df.first_device_type.value_counts()\n",
        "first_device_type_df = pd.DataFrame(first_device_type_df)\n",
        "first_device_type_df = first_device_type_df.reset_index()\n",
        "first_device_type_df.columns = ['first_device_type', 'count']\n",
        "sns.barplot(data=first_device_type_df, x=\"first_device_type\", y=\"count\");\n",
        "plt.xticks(rotation=90);"
      ],
      "execution_count": null,
      "outputs": [
        {
          "output_type": "display_data",
          "data": {
            "image/png": "[encoded data removed]",
            "text/plain": [
              "<Figure size 720x576 with 1 Axes>"
            ]
          },
          "metadata": {
            "needs_background": "light"
          }
        }
      ]
    },
    {
      "cell_type": "markdown",
      "metadata": {
        "id": "0hrG3n1nkGJb"
      },
      "source": [
        "Mac desktop and Windows desktop are most popular"
      ]
    },
    {
      "cell_type": "markdown",
      "metadata": {
        "id": "8936ZpBNkKFU"
      },
      "source": [
        "Browser used on first customer activity?"
      ]
    },
    {
      "cell_type": "code",
      "metadata": {
        "colab": {
          "base_uri": "https://localhost:8080/",
          "height": 607
        },
        "id": "L8dh0XL5gcY3",
        "outputId": "a2bbfb72-03a2-4d4d-c579-ba1bfda6e898"
      },
      "source": [
        "first_browser_df = train_df.first_browser.value_counts()\n",
        "first_browser_df = pd.DataFrame(first_browser_df)\n",
        "first_browser_df = first_browser_df.reset_index()\n",
        "first_browser_df.columns = ['first_browser', 'count']\n",
        "sns.barplot(data=first_browser_df.head(10), x=\"first_browser\", y=\"count\");\n",
        "plt.xticks(rotation=90);"
      ],
      "execution_count": null,
      "outputs": [
        {
          "output_type": "display_data",
          "data": {
            "image/png": "[encoded data removed]",
            "text/plain": [
              "<Figure size 720x576 with 1 Axes>"
            ]
          },
          "metadata": {
            "needs_background": "light"
          }
        }
      ]
    },
    {
      "cell_type": "markdown",
      "metadata": {
        "id": "aUPjjDEkkP6o"
      },
      "source": [
        "Most popular is chrome then safari. I am amazed to see IE being more popular than mobile safari and chrome mobile"
      ]
    },
    {
      "cell_type": "markdown",
      "metadata": {
        "id": "_9qA4Yf4kbaM"
      },
      "source": [
        "Destination countries people most like to visit?"
      ]
    },
    {
      "cell_type": "code",
      "metadata": {
        "colab": {
          "base_uri": "https://localhost:8080/",
          "height": 528
        },
        "id": "nn6IB7d0gcY4",
        "outputId": "945efe17-5ccd-4a64-e564-55b2343ee2d7"
      },
      "source": [
        "dest_df = train_df.country_destination.value_counts()\n",
        "dest_df = pd.DataFrame(dest_df)\n",
        "dest_df = dest_df.reset_index()\n",
        "dest_df.columns = ['destination_country', 'count']\n",
        "sns.barplot(data=dest_df, x=\"destination_country\", y=\"count\");\n",
        "plt.xticks(rotation=90);"
      ],
      "execution_count": null,
      "outputs": [
        {
          "output_type": "display_data",
          "data": {
            "image/png": "[encoded data removed]",
            "text/plain": [
              "<Figure size 720x576 with 1 Axes>"
            ]
          },
          "metadata": {
            "needs_background": "light"
          }
        }
      ]
    },
    {
      "cell_type": "markdown",
      "metadata": {
        "id": "ave53xlOkfqv"
      },
      "source": [
        "NDF means no bookings are done. US is the most visited country."
      ]
    },
    {
      "cell_type": "markdown",
      "metadata": {
        "id": "n6ula3wAkmPe"
      },
      "source": [
        "# Feature Engineering\n",
        "Lets start with splitting the dates into years, months and days\n",
        "\n",
        "> Indented block\n",
        "\n"
      ]
    },
    {
      "cell_type": "code",
      "metadata": {
        "id": "-37hspKGgcY4"
      },
      "source": [
        "def split_dates(df):\n",
        "    df['date_account_created'] = pd.to_datetime(df['date_account_created'], format = '%Y-%m-%d')\n",
        "    df['date_account_created_year'] = df['date_account_created'].dt.year\n",
        "    df['date_account_created_month'] = df['date_account_created'].dt.month\n",
        "    df['date_account_created_day'] = df['date_account_created'].dt.day\n",
        "\n",
        "    df['timestamp_first_active'] = pd.to_datetime(df['timestamp_first_active'], format = '%Y%m%d%H%M%S')\n",
        "    df['timestamp_first_active_year'] = df['timestamp_first_active'].dt.year\n",
        "    df['timestamp_first_active_month'] = df['timestamp_first_active'].dt.month\n",
        "    df['timestamp_first_active_day'] = df['timestamp_first_active'].dt.day\n",
        "    \n",
        "    df['date_first_booking'] = pd.to_datetime(df['date_first_booking'], format = '%Y-%m-%d')\n",
        "    df['date_first_booking_year'] = df['date_first_booking'].dt.year\n",
        "    df['date_first_booking_month'] = df['date_first_booking'].dt.month\n",
        "    df['date_first_booking_day'] = df['date_first_booking'].dt.day"
      ],
      "execution_count": null,
      "outputs": []
    },
    {
      "cell_type": "code",
      "metadata": {
        "id": "m3vwc4otgcY5"
      },
      "source": [
        "split_dates(train_df)\n",
        "split_dates(test_df)"
      ],
      "execution_count": null,
      "outputs": []
    },
    {
      "cell_type": "code",
      "metadata": {
        "colab": {
          "base_uri": "https://localhost:8080/",
          "height": 258
        },
        "id": "pOCUlIY9gcY5",
        "outputId": "67708c5d-dc93-4ac5-eb9c-44dd3a2e0c4f"
      },
      "source": [
        "train_df.head()"
      ],
      "execution_count": null,
      "outputs": [
        {
          "output_type": "execute_result",
          "data": {
            "text/html": [
              "<div>\n",
              "<style scoped>\n",
              "    .dataframe tbody tr th:only-of-type {\n",
              "        vertical-align: middle;\n",
              "    }\n",
              "\n",
              "    .dataframe tbody tr th {\n",
              "        vertical-align: top;\n",
              "    }\n",
              "\n",
              "    .dataframe thead th {\n",
              "        text-align: right;\n",
              "    }\n",
              "</style>\n",
              "<table border=\"1\" class=\"dataframe\">\n",
              "  <thead>\n",
              "    <tr style=\"text-align: right;\">\n",
              "      <th></th>\n",
              "      <th>id</th>\n",
              "      <th>date_account_created</th>\n",
              "      <th>timestamp_first_active</th>\n",
              "      <th>date_first_booking</th>\n",
              "      <th>gender</th>\n",
              "      <th>age</th>\n",
              "      <th>signup_method</th>\n",
              "      <th>signup_flow</th>\n",
              "      <th>language</th>\n",
              "      <th>affiliate_channel</th>\n",
              "      <th>affiliate_provider</th>\n",
              "      <th>first_affiliate_tracked</th>\n",
              "      <th>signup_app</th>\n",
              "      <th>first_device_type</th>\n",
              "      <th>first_browser</th>\n",
              "      <th>country_destination</th>\n",
              "      <th>date_account_created_year</th>\n",
              "      <th>date_account_created_month</th>\n",
              "      <th>date_account_created_day</th>\n",
              "      <th>timestamp_first_active_year</th>\n",
              "      <th>timestamp_first_active_month</th>\n",
              "      <th>timestamp_first_active_day</th>\n",
              "      <th>date_first_booking_year</th>\n",
              "      <th>date_first_booking_month</th>\n",
              "      <th>date_first_booking_day</th>\n",
              "    </tr>\n",
              "  </thead>\n",
              "  <tbody>\n",
              "    <tr>\n",
              "      <th>0</th>\n",
              "      <td>gxn3p5htnn</td>\n",
              "      <td>2010-06-28</td>\n",
              "      <td>2009-03-19 04:32:55</td>\n",
              "      <td>NaT</td>\n",
              "      <td>-unknown-</td>\n",
              "      <td>NaN</td>\n",
              "      <td>facebook</td>\n",
              "      <td>0</td>\n",
              "      <td>en</td>\n",
              "      <td>direct</td>\n",
              "      <td>direct</td>\n",
              "      <td>untracked</td>\n",
              "      <td>Web</td>\n",
              "      <td>Mac Desktop</td>\n",
              "      <td>Chrome</td>\n",
              "      <td>NDF</td>\n",
              "      <td>2010</td>\n",
              "      <td>6</td>\n",
              "      <td>28</td>\n",
              "      <td>2009</td>\n",
              "      <td>3</td>\n",
              "      <td>19</td>\n",
              "      <td>NaN</td>\n",
              "      <td>NaN</td>\n",
              "      <td>NaN</td>\n",
              "    </tr>\n",
              "    <tr>\n",
              "      <th>1</th>\n",
              "      <td>820tgsjxq7</td>\n",
              "      <td>2011-05-25</td>\n",
              "      <td>2009-05-23 17:48:09</td>\n",
              "      <td>NaT</td>\n",
              "      <td>MALE</td>\n",
              "      <td>38.0</td>\n",
              "      <td>facebook</td>\n",
              "      <td>0</td>\n",
              "      <td>en</td>\n",
              "      <td>seo</td>\n",
              "      <td>google</td>\n",
              "      <td>untracked</td>\n",
              "      <td>Web</td>\n",
              "      <td>Mac Desktop</td>\n",
              "      <td>Chrome</td>\n",
              "      <td>NDF</td>\n",
              "      <td>2011</td>\n",
              "      <td>5</td>\n",
              "      <td>25</td>\n",
              "      <td>2009</td>\n",
              "      <td>5</td>\n",
              "      <td>23</td>\n",
              "      <td>NaN</td>\n",
              "      <td>NaN</td>\n",
              "      <td>NaN</td>\n",
              "    </tr>\n",
              "    <tr>\n",
              "      <th>2</th>\n",
              "      <td>4ft3gnwmtx</td>\n",
              "      <td>2010-09-28</td>\n",
              "      <td>2009-06-09 23:12:47</td>\n",
              "      <td>2010-08-02</td>\n",
              "      <td>FEMALE</td>\n",
              "      <td>56.0</td>\n",
              "      <td>basic</td>\n",
              "      <td>3</td>\n",
              "      <td>en</td>\n",
              "      <td>direct</td>\n",
              "      <td>direct</td>\n",
              "      <td>untracked</td>\n",
              "      <td>Web</td>\n",
              "      <td>Windows Desktop</td>\n",
              "      <td>IE</td>\n",
              "      <td>US</td>\n",
              "      <td>2010</td>\n",
              "      <td>9</td>\n",
              "      <td>28</td>\n",
              "      <td>2009</td>\n",
              "      <td>6</td>\n",
              "      <td>9</td>\n",
              "      <td>2010.0</td>\n",
              "      <td>8.0</td>\n",
              "      <td>2.0</td>\n",
              "    </tr>\n",
              "    <tr>\n",
              "      <th>3</th>\n",
              "      <td>bjjt8pjhuk</td>\n",
              "      <td>2011-12-05</td>\n",
              "      <td>2009-10-31 06:01:29</td>\n",
              "      <td>2012-09-08</td>\n",
              "      <td>FEMALE</td>\n",
              "      <td>42.0</td>\n",
              "      <td>facebook</td>\n",
              "      <td>0</td>\n",
              "      <td>en</td>\n",
              "      <td>direct</td>\n",
              "      <td>direct</td>\n",
              "      <td>untracked</td>\n",
              "      <td>Web</td>\n",
              "      <td>Mac Desktop</td>\n",
              "      <td>Firefox</td>\n",
              "      <td>other</td>\n",
              "      <td>2011</td>\n",
              "      <td>12</td>\n",
              "      <td>5</td>\n",
              "      <td>2009</td>\n",
              "      <td>10</td>\n",
              "      <td>31</td>\n",
              "      <td>2012.0</td>\n",
              "      <td>9.0</td>\n",
              "      <td>8.0</td>\n",
              "    </tr>\n",
              "    <tr>\n",
              "      <th>4</th>\n",
              "      <td>87mebub9p4</td>\n",
              "      <td>2010-09-14</td>\n",
              "      <td>2009-12-08 06:11:05</td>\n",
              "      <td>2010-02-18</td>\n",
              "      <td>-unknown-</td>\n",
              "      <td>41.0</td>\n",
              "      <td>basic</td>\n",
              "      <td>0</td>\n",
              "      <td>en</td>\n",
              "      <td>direct</td>\n",
              "      <td>direct</td>\n",
              "      <td>untracked</td>\n",
              "      <td>Web</td>\n",
              "      <td>Mac Desktop</td>\n",
              "      <td>Chrome</td>\n",
              "      <td>US</td>\n",
              "      <td>2010</td>\n",
              "      <td>9</td>\n",
              "      <td>14</td>\n",
              "      <td>2009</td>\n",
              "      <td>12</td>\n",
              "      <td>8</td>\n",
              "      <td>2010.0</td>\n",
              "      <td>2.0</td>\n",
              "      <td>18.0</td>\n",
              "    </tr>\n",
              "  </tbody>\n",
              "</table>\n",
              "</div>"
            ],
            "text/plain": [
              "           id date_account_created timestamp_first_active date_first_booking  \\\n",
              "0  gxn3p5htnn           2010-06-28    2009-03-19 04:32:55                NaT   \n",
              "1  820tgsjxq7           2011-05-25    2009-05-23 17:48:09                NaT   \n",
              "2  4ft3gnwmtx           2010-09-28    2009-06-09 23:12:47         2010-08-02   \n",
              "3  bjjt8pjhuk           2011-12-05    2009-10-31 06:01:29         2012-09-08   \n",
              "4  87mebub9p4           2010-09-14    2009-12-08 06:11:05         2010-02-18   \n",
              "\n",
              "      gender   age signup_method  signup_flow language affiliate_channel  \\\n",
              "0  -unknown-   NaN      facebook            0       en            direct   \n",
              "1       MALE  38.0      facebook            0       en               seo   \n",
              "2     FEMALE  56.0         basic            3       en            direct   \n",
              "3     FEMALE  42.0      facebook            0       en            direct   \n",
              "4  -unknown-  41.0         basic            0       en            direct   \n",
              "\n",
              "  affiliate_provider first_affiliate_tracked signup_app first_device_type  \\\n",
              "0             direct               untracked        Web       Mac Desktop   \n",
              "1             google               untracked        Web       Mac Desktop   \n",
              "2             direct               untracked        Web   Windows Desktop   \n",
              "3             direct               untracked        Web       Mac Desktop   \n",
              "4             direct               untracked        Web       Mac Desktop   \n",
              "\n",
              "  first_browser country_destination  date_account_created_year  \\\n",
              "0        Chrome                 NDF                       2010   \n",
              "1        Chrome                 NDF                       2011   \n",
              "2            IE                  US                       2010   \n",
              "3       Firefox               other                       2011   \n",
              "4        Chrome                  US                       2010   \n",
              "\n",
              "   date_account_created_month  date_account_created_day  \\\n",
              "0                           6                        28   \n",
              "1                           5                        25   \n",
              "2                           9                        28   \n",
              "3                          12                         5   \n",
              "4                           9                        14   \n",
              "\n",
              "   timestamp_first_active_year  timestamp_first_active_month  \\\n",
              "0                         2009                             3   \n",
              "1                         2009                             5   \n",
              "2                         2009                             6   \n",
              "3                         2009                            10   \n",
              "4                         2009                            12   \n",
              "\n",
              "   timestamp_first_active_day  date_first_booking_year  \\\n",
              "0                          19                      NaN   \n",
              "1                          23                      NaN   \n",
              "2                           9                   2010.0   \n",
              "3                          31                   2012.0   \n",
              "4                           8                   2010.0   \n",
              "\n",
              "   date_first_booking_month  date_first_booking_day  \n",
              "0                       NaN                     NaN  \n",
              "1                       NaN                     NaN  \n",
              "2                       8.0                     2.0  \n",
              "3                       9.0                     8.0  \n",
              "4                       2.0                    18.0  "
            ]
          },
          "metadata": {},
          "execution_count": 29
        }
      ]
    },
    {
      "cell_type": "code",
      "metadata": {
        "colab": {
          "base_uri": "https://localhost:8080/"
        },
        "id": "MYXoEqOOgcY6",
        "outputId": "7c583252-4e75-470c-f344-c81dc31d6a70"
      },
      "source": [
        "train_df.isna().sum()"
      ],
      "execution_count": null,
      "outputs": [
        {
          "output_type": "execute_result",
          "data": {
            "text/plain": [
              "id                                   0\n",
              "date_account_created                 0\n",
              "timestamp_first_active               0\n",
              "date_first_booking              124543\n",
              "gender                               0\n",
              "age                              87990\n",
              "signup_method                        0\n",
              "signup_flow                          0\n",
              "language                             0\n",
              "affiliate_channel                    0\n",
              "affiliate_provider                   0\n",
              "first_affiliate_tracked           6065\n",
              "signup_app                           0\n",
              "first_device_type                    0\n",
              "first_browser                        0\n",
              "country_destination                  0\n",
              "date_account_created_year            0\n",
              "date_account_created_month           0\n",
              "date_account_created_day             0\n",
              "timestamp_first_active_year          0\n",
              "timestamp_first_active_month         0\n",
              "timestamp_first_active_day           0\n",
              "date_first_booking_year         124543\n",
              "date_first_booking_month        124543\n",
              "date_first_booking_day          124543\n",
              "dtype: int64"
            ]
          },
          "metadata": {},
          "execution_count": 30
        }
      ]
    },
    {
      "cell_type": "markdown",
      "metadata": {
        "id": "aVhvmvXxkyOt"
      },
      "source": [
        "Where date_first_booking is missing, destination country is also missing or NDF. Therefore, deleting null date_first_booking will be fine"
      ]
    },
    {
      "cell_type": "code",
      "metadata": {
        "colab": {
          "base_uri": "https://localhost:8080/",
          "height": 1000
        },
        "id": "d776LS_igcY6",
        "outputId": "025548f4-2d4d-4ade-f761-7d1b63e2635d"
      },
      "source": [
        "train_df[['date_first_booking', 'country_destination']].where(train_df.date_first_booking.isnull()).sample(100)"
      ],
      "execution_count": null,
      "outputs": [
        {
          "output_type": "execute_result",
          "data": {
            "text/html": [
              "<div>\n",
              "<style scoped>\n",
              "    .dataframe tbody tr th:only-of-type {\n",
              "        vertical-align: middle;\n",
              "    }\n",
              "\n",
              "    .dataframe tbody tr th {\n",
              "        vertical-align: top;\n",
              "    }\n",
              "\n",
              "    .dataframe thead th {\n",
              "        text-align: right;\n",
              "    }\n",
              "</style>\n",
              "<table border=\"1\" class=\"dataframe\">\n",
              "  <thead>\n",
              "    <tr style=\"text-align: right;\">\n",
              "      <th></th>\n",
              "      <th>date_first_booking</th>\n",
              "      <th>country_destination</th>\n",
              "    </tr>\n",
              "  </thead>\n",
              "  <tbody>\n",
              "    <tr>\n",
              "      <th>25032</th>\n",
              "      <td>NaT</td>\n",
              "      <td>NaN</td>\n",
              "    </tr>\n",
              "    <tr>\n",
              "      <th>83423</th>\n",
              "      <td>NaT</td>\n",
              "      <td>NaN</td>\n",
              "    </tr>\n",
              "    <tr>\n",
              "      <th>52160</th>\n",
              "      <td>NaT</td>\n",
              "      <td>NDF</td>\n",
              "    </tr>\n",
              "    <tr>\n",
              "      <th>154318</th>\n",
              "      <td>NaT</td>\n",
              "      <td>NDF</td>\n",
              "    </tr>\n",
              "    <tr>\n",
              "      <th>113741</th>\n",
              "      <td>NaT</td>\n",
              "      <td>NDF</td>\n",
              "    </tr>\n",
              "    <tr>\n",
              "      <th>199339</th>\n",
              "      <td>NaT</td>\n",
              "      <td>NDF</td>\n",
              "    </tr>\n",
              "    <tr>\n",
              "      <th>32988</th>\n",
              "      <td>NaT</td>\n",
              "      <td>NaN</td>\n",
              "    </tr>\n",
              "    <tr>\n",
              "      <th>192890</th>\n",
              "      <td>NaT</td>\n",
              "      <td>NDF</td>\n",
              "    </tr>\n",
              "    <tr>\n",
              "      <th>200162</th>\n",
              "      <td>NaT</td>\n",
              "      <td>NaN</td>\n",
              "    </tr>\n",
              "    <tr>\n",
              "      <th>146972</th>\n",
              "      <td>NaT</td>\n",
              "      <td>NDF</td>\n",
              "    </tr>\n",
              "    <tr>\n",
              "      <th>82938</th>\n",
              "      <td>NaT</td>\n",
              "      <td>NDF</td>\n",
              "    </tr>\n",
              "    <tr>\n",
              "      <th>61147</th>\n",
              "      <td>NaT</td>\n",
              "      <td>NaN</td>\n",
              "    </tr>\n",
              "    <tr>\n",
              "      <th>162569</th>\n",
              "      <td>NaT</td>\n",
              "      <td>NDF</td>\n",
              "    </tr>\n",
              "    <tr>\n",
              "      <th>190142</th>\n",
              "      <td>NaT</td>\n",
              "      <td>NaN</td>\n",
              "    </tr>\n",
              "    <tr>\n",
              "      <th>181505</th>\n",
              "      <td>NaT</td>\n",
              "      <td>NaN</td>\n",
              "    </tr>\n",
              "    <tr>\n",
              "      <th>157219</th>\n",
              "      <td>NaT</td>\n",
              "      <td>NDF</td>\n",
              "    </tr>\n",
              "    <tr>\n",
              "      <th>87209</th>\n",
              "      <td>NaT</td>\n",
              "      <td>NaN</td>\n",
              "    </tr>\n",
              "    <tr>\n",
              "      <th>128023</th>\n",
              "      <td>NaT</td>\n",
              "      <td>NDF</td>\n",
              "    </tr>\n",
              "    <tr>\n",
              "      <th>181885</th>\n",
              "      <td>NaT</td>\n",
              "      <td>NDF</td>\n",
              "    </tr>\n",
              "    <tr>\n",
              "      <th>141041</th>\n",
              "      <td>NaT</td>\n",
              "      <td>NaN</td>\n",
              "    </tr>\n",
              "    <tr>\n",
              "      <th>82182</th>\n",
              "      <td>NaT</td>\n",
              "      <td>NDF</td>\n",
              "    </tr>\n",
              "    <tr>\n",
              "      <th>87003</th>\n",
              "      <td>NaT</td>\n",
              "      <td>NDF</td>\n",
              "    </tr>\n",
              "    <tr>\n",
              "      <th>182453</th>\n",
              "      <td>NaT</td>\n",
              "      <td>NDF</td>\n",
              "    </tr>\n",
              "    <tr>\n",
              "      <th>211664</th>\n",
              "      <td>NaT</td>\n",
              "      <td>NaN</td>\n",
              "    </tr>\n",
              "    <tr>\n",
              "      <th>209617</th>\n",
              "      <td>NaT</td>\n",
              "      <td>NaN</td>\n",
              "    </tr>\n",
              "    <tr>\n",
              "      <th>42500</th>\n",
              "      <td>NaT</td>\n",
              "      <td>NDF</td>\n",
              "    </tr>\n",
              "    <tr>\n",
              "      <th>159664</th>\n",
              "      <td>NaT</td>\n",
              "      <td>NDF</td>\n",
              "    </tr>\n",
              "    <tr>\n",
              "      <th>52500</th>\n",
              "      <td>NaT</td>\n",
              "      <td>NaN</td>\n",
              "    </tr>\n",
              "    <tr>\n",
              "      <th>24395</th>\n",
              "      <td>NaT</td>\n",
              "      <td>NDF</td>\n",
              "    </tr>\n",
              "    <tr>\n",
              "      <th>98817</th>\n",
              "      <td>NaT</td>\n",
              "      <td>NDF</td>\n",
              "    </tr>\n",
              "    <tr>\n",
              "      <th>38258</th>\n",
              "      <td>NaT</td>\n",
              "      <td>NaN</td>\n",
              "    </tr>\n",
              "    <tr>\n",
              "      <th>173929</th>\n",
              "      <td>NaT</td>\n",
              "      <td>NaN</td>\n",
              "    </tr>\n",
              "    <tr>\n",
              "      <th>42029</th>\n",
              "      <td>NaT</td>\n",
              "      <td>NaN</td>\n",
              "    </tr>\n",
              "    <tr>\n",
              "      <th>109349</th>\n",
              "      <td>NaT</td>\n",
              "      <td>NaN</td>\n",
              "    </tr>\n",
              "    <tr>\n",
              "      <th>34094</th>\n",
              "      <td>NaT</td>\n",
              "      <td>NaN</td>\n",
              "    </tr>\n",
              "    <tr>\n",
              "      <th>43727</th>\n",
              "      <td>NaT</td>\n",
              "      <td>NDF</td>\n",
              "    </tr>\n",
              "    <tr>\n",
              "      <th>17653</th>\n",
              "      <td>NaT</td>\n",
              "      <td>NDF</td>\n",
              "    </tr>\n",
              "    <tr>\n",
              "      <th>69239</th>\n",
              "      <td>NaT</td>\n",
              "      <td>NDF</td>\n",
              "    </tr>\n",
              "    <tr>\n",
              "      <th>131910</th>\n",
              "      <td>NaT</td>\n",
              "      <td>NDF</td>\n",
              "    </tr>\n",
              "    <tr>\n",
              "      <th>144609</th>\n",
              "      <td>NaT</td>\n",
              "      <td>NDF</td>\n",
              "    </tr>\n",
              "    <tr>\n",
              "      <th>202046</th>\n",
              "      <td>NaT</td>\n",
              "      <td>NaN</td>\n",
              "    </tr>\n",
              "    <tr>\n",
              "      <th>124183</th>\n",
              "      <td>NaT</td>\n",
              "      <td>NaN</td>\n",
              "    </tr>\n",
              "    <tr>\n",
              "      <th>164325</th>\n",
              "      <td>NaT</td>\n",
              "      <td>NDF</td>\n",
              "    </tr>\n",
              "    <tr>\n",
              "      <th>19950</th>\n",
              "      <td>NaT</td>\n",
              "      <td>NDF</td>\n",
              "    </tr>\n",
              "    <tr>\n",
              "      <th>176227</th>\n",
              "      <td>NaT</td>\n",
              "      <td>NaN</td>\n",
              "    </tr>\n",
              "    <tr>\n",
              "      <th>72663</th>\n",
              "      <td>NaT</td>\n",
              "      <td>NDF</td>\n",
              "    </tr>\n",
              "    <tr>\n",
              "      <th>21795</th>\n",
              "      <td>NaT</td>\n",
              "      <td>NaN</td>\n",
              "    </tr>\n",
              "    <tr>\n",
              "      <th>139571</th>\n",
              "      <td>NaT</td>\n",
              "      <td>NaN</td>\n",
              "    </tr>\n",
              "    <tr>\n",
              "      <th>28259</th>\n",
              "      <td>NaT</td>\n",
              "      <td>NDF</td>\n",
              "    </tr>\n",
              "    <tr>\n",
              "      <th>151104</th>\n",
              "      <td>NaT</td>\n",
              "      <td>NDF</td>\n",
              "    </tr>\n",
              "    <tr>\n",
              "      <th>198787</th>\n",
              "      <td>NaT</td>\n",
              "      <td>NaN</td>\n",
              "    </tr>\n",
              "    <tr>\n",
              "      <th>2034</th>\n",
              "      <td>NaT</td>\n",
              "      <td>NaN</td>\n",
              "    </tr>\n",
              "    <tr>\n",
              "      <th>95109</th>\n",
              "      <td>NaT</td>\n",
              "      <td>NDF</td>\n",
              "    </tr>\n",
              "    <tr>\n",
              "      <th>21606</th>\n",
              "      <td>NaT</td>\n",
              "      <td>NaN</td>\n",
              "    </tr>\n",
              "    <tr>\n",
              "      <th>149086</th>\n",
              "      <td>NaT</td>\n",
              "      <td>NDF</td>\n",
              "    </tr>\n",
              "    <tr>\n",
              "      <th>124064</th>\n",
              "      <td>NaT</td>\n",
              "      <td>NaN</td>\n",
              "    </tr>\n",
              "    <tr>\n",
              "      <th>19251</th>\n",
              "      <td>NaT</td>\n",
              "      <td>NDF</td>\n",
              "    </tr>\n",
              "    <tr>\n",
              "      <th>176990</th>\n",
              "      <td>NaT</td>\n",
              "      <td>NDF</td>\n",
              "    </tr>\n",
              "    <tr>\n",
              "      <th>158512</th>\n",
              "      <td>NaT</td>\n",
              "      <td>NDF</td>\n",
              "    </tr>\n",
              "    <tr>\n",
              "      <th>182382</th>\n",
              "      <td>NaT</td>\n",
              "      <td>NaN</td>\n",
              "    </tr>\n",
              "    <tr>\n",
              "      <th>146259</th>\n",
              "      <td>NaT</td>\n",
              "      <td>NaN</td>\n",
              "    </tr>\n",
              "    <tr>\n",
              "      <th>165414</th>\n",
              "      <td>NaT</td>\n",
              "      <td>NaN</td>\n",
              "    </tr>\n",
              "    <tr>\n",
              "      <th>126670</th>\n",
              "      <td>NaT</td>\n",
              "      <td>NDF</td>\n",
              "    </tr>\n",
              "    <tr>\n",
              "      <th>39534</th>\n",
              "      <td>NaT</td>\n",
              "      <td>NDF</td>\n",
              "    </tr>\n",
              "    <tr>\n",
              "      <th>97052</th>\n",
              "      <td>NaT</td>\n",
              "      <td>NDF</td>\n",
              "    </tr>\n",
              "    <tr>\n",
              "      <th>103246</th>\n",
              "      <td>NaT</td>\n",
              "      <td>NDF</td>\n",
              "    </tr>\n",
              "    <tr>\n",
              "      <th>45893</th>\n",
              "      <td>NaT</td>\n",
              "      <td>NDF</td>\n",
              "    </tr>\n",
              "    <tr>\n",
              "      <th>197442</th>\n",
              "      <td>NaT</td>\n",
              "      <td>NDF</td>\n",
              "    </tr>\n",
              "    <tr>\n",
              "      <th>186855</th>\n",
              "      <td>NaT</td>\n",
              "      <td>NDF</td>\n",
              "    </tr>\n",
              "    <tr>\n",
              "      <th>129744</th>\n",
              "      <td>NaT</td>\n",
              "      <td>NDF</td>\n",
              "    </tr>\n",
              "    <tr>\n",
              "      <th>71041</th>\n",
              "      <td>NaT</td>\n",
              "      <td>NaN</td>\n",
              "    </tr>\n",
              "    <tr>\n",
              "      <th>180754</th>\n",
              "      <td>NaT</td>\n",
              "      <td>NDF</td>\n",
              "    </tr>\n",
              "    <tr>\n",
              "      <th>131860</th>\n",
              "      <td>NaT</td>\n",
              "      <td>NDF</td>\n",
              "    </tr>\n",
              "    <tr>\n",
              "      <th>160643</th>\n",
              "      <td>NaT</td>\n",
              "      <td>NDF</td>\n",
              "    </tr>\n",
              "    <tr>\n",
              "      <th>78297</th>\n",
              "      <td>NaT</td>\n",
              "      <td>NaN</td>\n",
              "    </tr>\n",
              "    <tr>\n",
              "      <th>168778</th>\n",
              "      <td>NaT</td>\n",
              "      <td>NDF</td>\n",
              "    </tr>\n",
              "    <tr>\n",
              "      <th>51878</th>\n",
              "      <td>NaT</td>\n",
              "      <td>NaN</td>\n",
              "    </tr>\n",
              "    <tr>\n",
              "      <th>185637</th>\n",
              "      <td>NaT</td>\n",
              "      <td>NDF</td>\n",
              "    </tr>\n",
              "    <tr>\n",
              "      <th>121242</th>\n",
              "      <td>NaT</td>\n",
              "      <td>NDF</td>\n",
              "    </tr>\n",
              "    <tr>\n",
              "      <th>117891</th>\n",
              "      <td>NaT</td>\n",
              "      <td>NaN</td>\n",
              "    </tr>\n",
              "    <tr>\n",
              "      <th>154777</th>\n",
              "      <td>NaT</td>\n",
              "      <td>NDF</td>\n",
              "    </tr>\n",
              "    <tr>\n",
              "      <th>168109</th>\n",
              "      <td>NaT</td>\n",
              "      <td>NaN</td>\n",
              "    </tr>\n",
              "    <tr>\n",
              "      <th>62872</th>\n",
              "      <td>NaT</td>\n",
              "      <td>NDF</td>\n",
              "    </tr>\n",
              "    <tr>\n",
              "      <th>138032</th>\n",
              "      <td>NaT</td>\n",
              "      <td>NDF</td>\n",
              "    </tr>\n",
              "    <tr>\n",
              "      <th>13637</th>\n",
              "      <td>NaT</td>\n",
              "      <td>NDF</td>\n",
              "    </tr>\n",
              "    <tr>\n",
              "      <th>48049</th>\n",
              "      <td>NaT</td>\n",
              "      <td>NaN</td>\n",
              "    </tr>\n",
              "    <tr>\n",
              "      <th>101555</th>\n",
              "      <td>NaT</td>\n",
              "      <td>NaN</td>\n",
              "    </tr>\n",
              "    <tr>\n",
              "      <th>111268</th>\n",
              "      <td>NaT</td>\n",
              "      <td>NDF</td>\n",
              "    </tr>\n",
              "    <tr>\n",
              "      <th>160509</th>\n",
              "      <td>NaT</td>\n",
              "      <td>NaN</td>\n",
              "    </tr>\n",
              "    <tr>\n",
              "      <th>114541</th>\n",
              "      <td>NaT</td>\n",
              "      <td>NDF</td>\n",
              "    </tr>\n",
              "    <tr>\n",
              "      <th>78893</th>\n",
              "      <td>NaT</td>\n",
              "      <td>NaN</td>\n",
              "    </tr>\n",
              "    <tr>\n",
              "      <th>150327</th>\n",
              "      <td>NaT</td>\n",
              "      <td>NaN</td>\n",
              "    </tr>\n",
              "    <tr>\n",
              "      <th>100029</th>\n",
              "      <td>NaT</td>\n",
              "      <td>NaN</td>\n",
              "    </tr>\n",
              "    <tr>\n",
              "      <th>144189</th>\n",
              "      <td>NaT</td>\n",
              "      <td>NaN</td>\n",
              "    </tr>\n",
              "    <tr>\n",
              "      <th>71560</th>\n",
              "      <td>NaT</td>\n",
              "      <td>NaN</td>\n",
              "    </tr>\n",
              "    <tr>\n",
              "      <th>168845</th>\n",
              "      <td>NaT</td>\n",
              "      <td>NDF</td>\n",
              "    </tr>\n",
              "    <tr>\n",
              "      <th>51699</th>\n",
              "      <td>NaT</td>\n",
              "      <td>NaN</td>\n",
              "    </tr>\n",
              "    <tr>\n",
              "      <th>182491</th>\n",
              "      <td>NaT</td>\n",
              "      <td>NaN</td>\n",
              "    </tr>\n",
              "    <tr>\n",
              "      <th>4779</th>\n",
              "      <td>NaT</td>\n",
              "      <td>NaN</td>\n",
              "    </tr>\n",
              "    <tr>\n",
              "      <th>90426</th>\n",
              "      <td>NaT</td>\n",
              "      <td>NaN</td>\n",
              "    </tr>\n",
              "  </tbody>\n",
              "</table>\n",
              "</div>"
            ],
            "text/plain": [
              "       date_first_booking country_destination\n",
              "25032                 NaT                 NaN\n",
              "83423                 NaT                 NaN\n",
              "52160                 NaT                 NDF\n",
              "154318                NaT                 NDF\n",
              "113741                NaT                 NDF\n",
              "199339                NaT                 NDF\n",
              "32988                 NaT                 NaN\n",
              "192890                NaT                 NDF\n",
              "200162                NaT                 NaN\n",
              "146972                NaT                 NDF\n",
              "82938                 NaT                 NDF\n",
              "61147                 NaT                 NaN\n",
              "162569                NaT                 NDF\n",
              "190142                NaT                 NaN\n",
              "181505                NaT                 NaN\n",
              "157219                NaT                 NDF\n",
              "87209                 NaT                 NaN\n",
              "128023                NaT                 NDF\n",
              "181885                NaT                 NDF\n",
              "141041                NaT                 NaN\n",
              "82182                 NaT                 NDF\n",
              "87003                 NaT                 NDF\n",
              "182453                NaT                 NDF\n",
              "211664                NaT                 NaN\n",
              "209617                NaT                 NaN\n",
              "42500                 NaT                 NDF\n",
              "159664                NaT                 NDF\n",
              "52500                 NaT                 NaN\n",
              "24395                 NaT                 NDF\n",
              "98817                 NaT                 NDF\n",
              "38258                 NaT                 NaN\n",
              "173929                NaT                 NaN\n",
              "42029                 NaT                 NaN\n",
              "109349                NaT                 NaN\n",
              "34094                 NaT                 NaN\n",
              "43727                 NaT                 NDF\n",
              "17653                 NaT                 NDF\n",
              "69239                 NaT                 NDF\n",
              "131910                NaT                 NDF\n",
              "144609                NaT                 NDF\n",
              "202046                NaT                 NaN\n",
              "124183                NaT                 NaN\n",
              "164325                NaT                 NDF\n",
              "19950                 NaT                 NDF\n",
              "176227                NaT                 NaN\n",
              "72663                 NaT                 NDF\n",
              "21795                 NaT                 NaN\n",
              "139571                NaT                 NaN\n",
              "28259                 NaT                 NDF\n",
              "151104                NaT                 NDF\n",
              "198787                NaT                 NaN\n",
              "2034                  NaT                 NaN\n",
              "95109                 NaT                 NDF\n",
              "21606                 NaT                 NaN\n",
              "149086                NaT                 NDF\n",
              "124064                NaT                 NaN\n",
              "19251                 NaT                 NDF\n",
              "176990                NaT                 NDF\n",
              "158512                NaT                 NDF\n",
              "182382                NaT                 NaN\n",
              "146259                NaT                 NaN\n",
              "165414                NaT                 NaN\n",
              "126670                NaT                 NDF\n",
              "39534                 NaT                 NDF\n",
              "97052                 NaT                 NDF\n",
              "103246                NaT                 NDF\n",
              "45893                 NaT                 NDF\n",
              "197442                NaT                 NDF\n",
              "186855                NaT                 NDF\n",
              "129744                NaT                 NDF\n",
              "71041                 NaT                 NaN\n",
              "180754                NaT                 NDF\n",
              "131860                NaT                 NDF\n",
              "160643                NaT                 NDF\n",
              "78297                 NaT                 NaN\n",
              "168778                NaT                 NDF\n",
              "51878                 NaT                 NaN\n",
              "185637                NaT                 NDF\n",
              "121242                NaT                 NDF\n",
              "117891                NaT                 NaN\n",
              "154777                NaT                 NDF\n",
              "168109                NaT                 NaN\n",
              "62872                 NaT                 NDF\n",
              "138032                NaT                 NDF\n",
              "13637                 NaT                 NDF\n",
              "48049                 NaT                 NaN\n",
              "101555                NaT                 NaN\n",
              "111268                NaT                 NDF\n",
              "160509                NaT                 NaN\n",
              "114541                NaT                 NDF\n",
              "78893                 NaT                 NaN\n",
              "150327                NaT                 NaN\n",
              "100029                NaT                 NaN\n",
              "144189                NaT                 NaN\n",
              "71560                 NaT                 NaN\n",
              "168845                NaT                 NDF\n",
              "51699                 NaT                 NaN\n",
              "182491                NaT                 NaN\n",
              "4779                  NaT                 NaN\n",
              "90426                 NaT                 NaN"
            ]
          },
          "metadata": {},
          "execution_count": 31
        }
      ]
    },
    {
      "cell_type": "code",
      "metadata": {
        "id": "KVM8xjxmgcY6"
      },
      "source": [
        "train_inputs = train_df.drop(['id', 'date_account_created', 'timestamp_first_active', 'date_first_booking', 'country_destination'], axis=1)\n",
        "train_targets = train_df['country_destination']\n",
        "test_inputs = test_df.drop(['date_account_created', 'timestamp_first_active', 'date_first_booking'], axis=1).set_index('id')"
      ],
      "execution_count": null,
      "outputs": []
    },
    {
      "cell_type": "code",
      "metadata": {
        "id": "6i7-6GfxgcY8"
      },
      "source": [
        "train_df.country_destination.dropna(inplace=True)"
      ],
      "execution_count": null,
      "outputs": []
    },
    {
      "cell_type": "markdown",
      "metadata": {
        "id": "viYinGu4lN0n"
      },
      "source": [
        "Remove outliers from age"
      ]
    },
    {
      "cell_type": "code",
      "metadata": {
        "id": "DWiYQaCvgcY8"
      },
      "source": [
        "train_df.drop(train_df[train_df['age']> 110].index, inplace=True)\n",
        "train_df.drop(train_df[train_df['age']< 18].index, inplace=True)"
      ],
      "execution_count": null,
      "outputs": []
    },
    {
      "cell_type": "code",
      "metadata": {
        "colab": {
          "base_uri": "https://localhost:8080/",
          "height": 483
        },
        "id": "6dYcxaL5gcY8",
        "outputId": "0f3b97e7-b6a8-4db7-c507-9df310152e76"
      },
      "source": [
        "sns.boxplot(y=train_df.age)"
      ],
      "execution_count": null,
      "outputs": [
        {
          "output_type": "execute_result",
          "data": {
            "text/plain": [
              "<matplotlib.axes._subplots.AxesSubplot at 0x7fa856e85cd0>"
            ]
          },
          "metadata": {},
          "execution_count": 35
        },
        {
          "output_type": "display_data",
          "data": {
            "image/png": "[encoded data removed]",
            "text/plain": [
              "<Figure size 720x576 with 1 Axes>"
            ]
          },
          "metadata": {
            "needs_background": "light"
          }
        }
      ]
    },
    {
      "cell_type": "code",
      "metadata": {
        "colab": {
          "base_uri": "https://localhost:8080/",
          "height": 258
        },
        "id": "-RqrLHJDgcY9",
        "outputId": "f07a48fb-229f-40d0-fd48-3ebc8e6f45e9"
      },
      "source": [
        "train_df.head()"
      ],
      "execution_count": null,
      "outputs": [
        {
          "output_type": "execute_result",
          "data": {
            "text/html": [
              "<div>\n",
              "<style scoped>\n",
              "    .dataframe tbody tr th:only-of-type {\n",
              "        vertical-align: middle;\n",
              "    }\n",
              "\n",
              "    .dataframe tbody tr th {\n",
              "        vertical-align: top;\n",
              "    }\n",
              "\n",
              "    .dataframe thead th {\n",
              "        text-align: right;\n",
              "    }\n",
              "</style>\n",
              "<table border=\"1\" class=\"dataframe\">\n",
              "  <thead>\n",
              "    <tr style=\"text-align: right;\">\n",
              "      <th></th>\n",
              "      <th>id</th>\n",
              "      <th>date_account_created</th>\n",
              "      <th>timestamp_first_active</th>\n",
              "      <th>date_first_booking</th>\n",
              "      <th>gender</th>\n",
              "      <th>age</th>\n",
              "      <th>signup_method</th>\n",
              "      <th>signup_flow</th>\n",
              "      <th>language</th>\n",
              "      <th>affiliate_channel</th>\n",
              "      <th>affiliate_provider</th>\n",
              "      <th>first_affiliate_tracked</th>\n",
              "      <th>signup_app</th>\n",
              "      <th>first_device_type</th>\n",
              "      <th>first_browser</th>\n",
              "      <th>country_destination</th>\n",
              "      <th>date_account_created_year</th>\n",
              "      <th>date_account_created_month</th>\n",
              "      <th>date_account_created_day</th>\n",
              "      <th>timestamp_first_active_year</th>\n",
              "      <th>timestamp_first_active_month</th>\n",
              "      <th>timestamp_first_active_day</th>\n",
              "      <th>date_first_booking_year</th>\n",
              "      <th>date_first_booking_month</th>\n",
              "      <th>date_first_booking_day</th>\n",
              "    </tr>\n",
              "  </thead>\n",
              "  <tbody>\n",
              "    <tr>\n",
              "      <th>0</th>\n",
              "      <td>gxn3p5htnn</td>\n",
              "      <td>2010-06-28</td>\n",
              "      <td>2009-03-19 04:32:55</td>\n",
              "      <td>NaT</td>\n",
              "      <td>-unknown-</td>\n",
              "      <td>NaN</td>\n",
              "      <td>facebook</td>\n",
              "      <td>0</td>\n",
              "      <td>en</td>\n",
              "      <td>direct</td>\n",
              "      <td>direct</td>\n",
              "      <td>untracked</td>\n",
              "      <td>Web</td>\n",
              "      <td>Mac Desktop</td>\n",
              "      <td>Chrome</td>\n",
              "      <td>NDF</td>\n",
              "      <td>2010</td>\n",
              "      <td>6</td>\n",
              "      <td>28</td>\n",
              "      <td>2009</td>\n",
              "      <td>3</td>\n",
              "      <td>19</td>\n",
              "      <td>NaN</td>\n",
              "      <td>NaN</td>\n",
              "      <td>NaN</td>\n",
              "    </tr>\n",
              "    <tr>\n",
              "      <th>1</th>\n",
              "      <td>820tgsjxq7</td>\n",
              "      <td>2011-05-25</td>\n",
              "      <td>2009-05-23 17:48:09</td>\n",
              "      <td>NaT</td>\n",
              "      <td>MALE</td>\n",
              "      <td>38.0</td>\n",
              "      <td>facebook</td>\n",
              "      <td>0</td>\n",
              "      <td>en</td>\n",
              "      <td>seo</td>\n",
              "      <td>google</td>\n",
              "      <td>untracked</td>\n",
              "      <td>Web</td>\n",
              "      <td>Mac Desktop</td>\n",
              "      <td>Chrome</td>\n",
              "      <td>NDF</td>\n",
              "      <td>2011</td>\n",
              "      <td>5</td>\n",
              "      <td>25</td>\n",
              "      <td>2009</td>\n",
              "      <td>5</td>\n",
              "      <td>23</td>\n",
              "      <td>NaN</td>\n",
              "      <td>NaN</td>\n",
              "      <td>NaN</td>\n",
              "    </tr>\n",
              "    <tr>\n",
              "      <th>2</th>\n",
              "      <td>4ft3gnwmtx</td>\n",
              "      <td>2010-09-28</td>\n",
              "      <td>2009-06-09 23:12:47</td>\n",
              "      <td>2010-08-02</td>\n",
              "      <td>FEMALE</td>\n",
              "      <td>56.0</td>\n",
              "      <td>basic</td>\n",
              "      <td>3</td>\n",
              "      <td>en</td>\n",
              "      <td>direct</td>\n",
              "      <td>direct</td>\n",
              "      <td>untracked</td>\n",
              "      <td>Web</td>\n",
              "      <td>Windows Desktop</td>\n",
              "      <td>IE</td>\n",
              "      <td>US</td>\n",
              "      <td>2010</td>\n",
              "      <td>9</td>\n",
              "      <td>28</td>\n",
              "      <td>2009</td>\n",
              "      <td>6</td>\n",
              "      <td>9</td>\n",
              "      <td>2010.0</td>\n",
              "      <td>8.0</td>\n",
              "      <td>2.0</td>\n",
              "    </tr>\n",
              "    <tr>\n",
              "      <th>3</th>\n",
              "      <td>bjjt8pjhuk</td>\n",
              "      <td>2011-12-05</td>\n",
              "      <td>2009-10-31 06:01:29</td>\n",
              "      <td>2012-09-08</td>\n",
              "      <td>FEMALE</td>\n",
              "      <td>42.0</td>\n",
              "      <td>facebook</td>\n",
              "      <td>0</td>\n",
              "      <td>en</td>\n",
              "      <td>direct</td>\n",
              "      <td>direct</td>\n",
              "      <td>untracked</td>\n",
              "      <td>Web</td>\n",
              "      <td>Mac Desktop</td>\n",
              "      <td>Firefox</td>\n",
              "      <td>other</td>\n",
              "      <td>2011</td>\n",
              "      <td>12</td>\n",
              "      <td>5</td>\n",
              "      <td>2009</td>\n",
              "      <td>10</td>\n",
              "      <td>31</td>\n",
              "      <td>2012.0</td>\n",
              "      <td>9.0</td>\n",
              "      <td>8.0</td>\n",
              "    </tr>\n",
              "    <tr>\n",
              "      <th>4</th>\n",
              "      <td>87mebub9p4</td>\n",
              "      <td>2010-09-14</td>\n",
              "      <td>2009-12-08 06:11:05</td>\n",
              "      <td>2010-02-18</td>\n",
              "      <td>-unknown-</td>\n",
              "      <td>41.0</td>\n",
              "      <td>basic</td>\n",
              "      <td>0</td>\n",
              "      <td>en</td>\n",
              "      <td>direct</td>\n",
              "      <td>direct</td>\n",
              "      <td>untracked</td>\n",
              "      <td>Web</td>\n",
              "      <td>Mac Desktop</td>\n",
              "      <td>Chrome</td>\n",
              "      <td>US</td>\n",
              "      <td>2010</td>\n",
              "      <td>9</td>\n",
              "      <td>14</td>\n",
              "      <td>2009</td>\n",
              "      <td>12</td>\n",
              "      <td>8</td>\n",
              "      <td>2010.0</td>\n",
              "      <td>2.0</td>\n",
              "      <td>18.0</td>\n",
              "    </tr>\n",
              "  </tbody>\n",
              "</table>\n",
              "</div>"
            ],
            "text/plain": [
              "           id date_account_created timestamp_first_active date_first_booking  \\\n",
              "0  gxn3p5htnn           2010-06-28    2009-03-19 04:32:55                NaT   \n",
              "1  820tgsjxq7           2011-05-25    2009-05-23 17:48:09                NaT   \n",
              "2  4ft3gnwmtx           2010-09-28    2009-06-09 23:12:47         2010-08-02   \n",
              "3  bjjt8pjhuk           2011-12-05    2009-10-31 06:01:29         2012-09-08   \n",
              "4  87mebub9p4           2010-09-14    2009-12-08 06:11:05         2010-02-18   \n",
              "\n",
              "      gender   age signup_method  signup_flow language affiliate_channel  \\\n",
              "0  -unknown-   NaN      facebook            0       en            direct   \n",
              "1       MALE  38.0      facebook            0       en               seo   \n",
              "2     FEMALE  56.0         basic            3       en            direct   \n",
              "3     FEMALE  42.0      facebook            0       en            direct   \n",
              "4  -unknown-  41.0         basic            0       en            direct   \n",
              "\n",
              "  affiliate_provider first_affiliate_tracked signup_app first_device_type  \\\n",
              "0             direct               untracked        Web       Mac Desktop   \n",
              "1             google               untracked        Web       Mac Desktop   \n",
              "2             direct               untracked        Web   Windows Desktop   \n",
              "3             direct               untracked        Web       Mac Desktop   \n",
              "4             direct               untracked        Web       Mac Desktop   \n",
              "\n",
              "  first_browser country_destination  date_account_created_year  \\\n",
              "0        Chrome                 NDF                       2010   \n",
              "1        Chrome                 NDF                       2011   \n",
              "2            IE                  US                       2010   \n",
              "3       Firefox               other                       2011   \n",
              "4        Chrome                  US                       2010   \n",
              "\n",
              "   date_account_created_month  date_account_created_day  \\\n",
              "0                           6                        28   \n",
              "1                           5                        25   \n",
              "2                           9                        28   \n",
              "3                          12                         5   \n",
              "4                           9                        14   \n",
              "\n",
              "   timestamp_first_active_year  timestamp_first_active_month  \\\n",
              "0                         2009                             3   \n",
              "1                         2009                             5   \n",
              "2                         2009                             6   \n",
              "3                         2009                            10   \n",
              "4                         2009                            12   \n",
              "\n",
              "   timestamp_first_active_day  date_first_booking_year  \\\n",
              "0                          19                      NaN   \n",
              "1                          23                      NaN   \n",
              "2                           9                   2010.0   \n",
              "3                          31                   2012.0   \n",
              "4                           8                   2010.0   \n",
              "\n",
              "   date_first_booking_month  date_first_booking_day  \n",
              "0                       NaN                     NaN  \n",
              "1                       NaN                     NaN  \n",
              "2                       8.0                     2.0  \n",
              "3                       9.0                     8.0  \n",
              "4                       2.0                    18.0  "
            ]
          },
          "metadata": {},
          "execution_count": 36
        }
      ]
    },
    {
      "cell_type": "markdown",
      "metadata": {
        "id": "z_9uGmMGlYFK"
      },
      "source": [
        "Defining numeric and categorical columns to perform scaling and encoding"
      ]
    },
    {
      "cell_type": "code",
      "metadata": {
        "id": "v2gn8-tbgcY-"
      },
      "source": [
        "numeric_cols = ['age', 'signup_flow', 'date_account_created_year', 'date_account_created_month', 'date_account_created_day', 'timestamp_first_active_year', 'timestamp_first_active_month', 'timestamp_first_active_day', 'date_first_booking_year', 'date_first_booking_month', 'date_first_booking_day']\n",
        "cat_cols = ['gender', 'signup_method', 'signup_flow', 'language', 'affiliate_channel', 'affiliate_provider', 'first_affiliate_tracked', 'signup_app', 'first_device_type', 'first_browser']"
      ],
      "execution_count": null,
      "outputs": []
    },
    {
      "cell_type": "code",
      "metadata": {
        "colab": {
          "base_uri": "https://localhost:8080/"
        },
        "id": "_jG6ttL8gcY-",
        "outputId": "98196b44-6f5c-4615-9d15-89f5debe4870"
      },
      "source": [
        "train_inputs[numeric_cols].isna().sum()"
      ],
      "execution_count": null,
      "outputs": [
        {
          "output_type": "execute_result",
          "data": {
            "text/plain": [
              "age                              87990\n",
              "signup_flow                          0\n",
              "date_account_created_year            0\n",
              "date_account_created_month           0\n",
              "date_account_created_day             0\n",
              "timestamp_first_active_year          0\n",
              "timestamp_first_active_month         0\n",
              "timestamp_first_active_day           0\n",
              "date_first_booking_year         124543\n",
              "date_first_booking_month        124543\n",
              "date_first_booking_day          124543\n",
              "dtype: int64"
            ]
          },
          "metadata": {},
          "execution_count": 38
        }
      ]
    },
    {
      "cell_type": "code",
      "metadata": {
        "colab": {
          "base_uri": "https://localhost:8080/"
        },
        "id": "kN_TktsqgcY_",
        "outputId": "40a3ce1b-acc0-43e2-b1ac-660e82633989"
      },
      "source": [
        "test_inputs[numeric_cols].isna().sum()"
      ],
      "execution_count": null,
      "outputs": [
        {
          "output_type": "execute_result",
          "data": {
            "text/plain": [
              "age                             28876\n",
              "signup_flow                         0\n",
              "date_account_created_year           0\n",
              "date_account_created_month          0\n",
              "date_account_created_day            0\n",
              "timestamp_first_active_year         0\n",
              "timestamp_first_active_month        0\n",
              "timestamp_first_active_day          0\n",
              "date_first_booking_year         62096\n",
              "date_first_booking_month        62096\n",
              "date_first_booking_day          62096\n",
              "dtype: int64"
            ]
          },
          "metadata": {},
          "execution_count": 39
        }
      ]
    },
    {
      "cell_type": "code",
      "metadata": {
        "id": "1QJ-gUWXgcY_"
      },
      "source": [
        "train_inputs['date_first_booking_year'].fillna(0, inplace=True)\n",
        "train_inputs['date_first_booking_month'].fillna(0, inplace=True)\n",
        "train_inputs['date_first_booking_day'].fillna(0, inplace=True)\n",
        "test_inputs['date_first_booking_year'].fillna(0, inplace=True)\n",
        "test_inputs['date_first_booking_month'].fillna(0, inplace=True)\n",
        "test_inputs['date_first_booking_day'].fillna(0, inplace=True)"
      ],
      "execution_count": null,
      "outputs": []
    },
    {
      "cell_type": "code",
      "metadata": {
        "id": "g5pgfjaRgcY_"
      },
      "source": [
        "train_inputs['age'].fillna(31, inplace=True)\n",
        "test_inputs['age'].fillna(31, inplace=True)"
      ],
      "execution_count": null,
      "outputs": []
    },
    {
      "cell_type": "markdown",
      "metadata": {
        "id": "4WIyGCyUlgVf"
      },
      "source": [
        "Scaling numeric columns"
      ]
    },
    {
      "cell_type": "code",
      "metadata": {
        "id": "VusLibRhgcZA"
      },
      "source": [
        "from sklearn.preprocessing import MinMaxScaler\n",
        "scaler = MinMaxScaler().fit(train_inputs[numeric_cols])\n",
        "train_inputs[numeric_cols] = scaler.transform(train_inputs[numeric_cols])\n",
        "test_inputs[numeric_cols] = scaler.transform(test_inputs[numeric_cols])"
      ],
      "execution_count": null,
      "outputs": []
    },
    {
      "cell_type": "code",
      "metadata": {
        "id": "I_qQvpXeFVTQ"
      },
      "source": [
        "train_inputs.first_affiliate_tracked.fillna('Unknown', inplace=True)\n",
        "test_inputs.first_affiliate_tracked.fillna('Unknown', inplace=True)"
      ],
      "execution_count": null,
      "outputs": []
    },
    {
      "cell_type": "markdown",
      "metadata": {
        "id": "68HhPAGVljbj"
      },
      "source": [
        "Encoding categorical columns"
      ]
    },
    {
      "cell_type": "code",
      "metadata": {
        "id": "-Ys3tdB3hiBH"
      },
      "source": [
        "from sklearn.preprocessing import LabelEncoder\n",
        "\n",
        "def encode(df):\n",
        "  le = LabelEncoder()\n",
        "  df['gender'] = le.fit_transform(df['gender'])\n",
        "  df['signup_method'] = le.fit_transform(df['signup_method'])\n",
        "  df['signup_flow'] = le.fit_transform(df['signup_flow'])\n",
        "  df['language'] = le.fit_transform(df['language'])\n",
        "  df['affiliate_channel'] = le.fit_transform(df['affiliate_channel'])\n",
        "  df['affiliate_provider'] = le.fit_transform(df['affiliate_provider'])\n",
        "  df['first_affiliate_tracked'] = le.fit_transform(df['first_affiliate_tracked'])\n",
        "  df['signup_app'] = le.fit_transform(df['signup_app'])\n",
        "  df['first_device_type'] = le.fit_transform(df['first_device_type'])\n",
        "  df['first_browser'] = le.fit_transform(df['first_browser'])"
      ],
      "execution_count": null,
      "outputs": []
    },
    {
      "cell_type": "code",
      "metadata": {
        "id": "OBF90z2ehvlb"
      },
      "source": [
        "encode(train_inputs)\n",
        "encode(test_inputs)"
      ],
      "execution_count": null,
      "outputs": []
    },
    {
      "cell_type": "code",
      "metadata": {
        "colab": {
          "base_uri": "https://localhost:8080/"
        },
        "id": "PvHbVkr2GA1_",
        "outputId": "3039194b-45cd-42bc-feca-98b562d77997"
      },
      "source": [
        "from google.colab import drive\n",
        "drive.mount('/content/drive')"
      ],
      "execution_count": null,
      "outputs": [
        {
          "output_type": "stream",
          "name": "stdout",
          "text": [
            "Drive already mounted at /content/drive; to attempt to forcibly remount, call drive.mount(\"/content/drive\", force_remount=True).\n"
          ]
        }
      ]
    },
    {
      "cell_type": "code",
      "metadata": {
        "colab": {
          "base_uri": "https://localhost:8080/"
        },
        "id": "sH6xAUgcgcZA",
        "outputId": "f3685d27-99a1-44de-adf4-653ac598a84d"
      },
      "source": [
        "pip install xgboost"
      ],
      "execution_count": null,
      "outputs": [
        {
          "output_type": "stream",
          "name": "stdout",
          "text": [
            "Requirement already satisfied: xgboost in /usr/local/lib/python3.7/dist-packages (0.90)\n",
            "Requirement already satisfied: numpy in /usr/local/lib/python3.7/dist-packages (from xgboost) (1.19.5)\n",
            "Requirement already satisfied: scipy in /usr/local/lib/python3.7/dist-packages (from xgboost) (1.4.1)\n"
          ]
        }
      ]
    },
    {
      "cell_type": "markdown",
      "metadata": {
        "id": "DtpooWXJln7U"
      },
      "source": [
        "# Training and predicting\n",
        "We are going to use XGBClassifier and Logistic Regression"
      ]
    },
    {
      "cell_type": "code",
      "metadata": {
        "id": "sRAujhoSgcZB"
      },
      "source": [
        "from xgboost import XGBClassifier"
      ],
      "execution_count": null,
      "outputs": []
    },
    {
      "cell_type": "code",
      "metadata": {
        "id": "YoSPJ8g-Qjop"
      },
      "source": [
        "from sklearn.model_selection import train_test_split\n",
        "train_inputs, val_inputs, train_targets, val_targets = train_test_split(train_inputs, train_targets, test_size=0.3, random_state=42)"
      ],
      "execution_count": null,
      "outputs": []
    },
    {
      "cell_type": "markdown",
      "metadata": {
        "id": "b_ZPZtqVmKZx"
      },
      "source": [
        "First trying with 50 n_estimators"
      ]
    },
    {
      "cell_type": "code",
      "metadata": {
        "id": "6IUhToTpgcZB"
      },
      "source": [
        "xgb = XGBClassifier(n_estimators=50, use_label_encoder=False, max_depth=50, learning_rate=0.05, n_jobs=-1 )"
      ],
      "execution_count": null,
      "outputs": []
    },
    {
      "cell_type": "markdown",
      "metadata": {
        "id": "t6cs5013l30x"
      },
      "source": [
        "Since our dataset has more than 200,000 rows, lets only train the model with most important features. Using RandomForestClassifier to select important features"
      ]
    },
    {
      "cell_type": "code",
      "metadata": {
        "colab": {
          "base_uri": "https://localhost:8080/"
        },
        "id": "zA1UflT1hS3g",
        "outputId": "9606e522-9854-4611-b9aa-2c1433a30e23"
      },
      "source": [
        "from sklearn.ensemble import RandomForestClassifier\n",
        "from sklearn.feature_selection import SelectFromModel\n",
        "sel = SelectFromModel(RandomForestClassifier(n_estimators = 5))\n",
        "sel.fit(train_inputs, train_targets)\n",
        "selected_feat = train_inputs.columns[(sel.get_support())]\n",
        "print(selected_feat)\n",
        "print(len(selected_feat))"
      ],
      "execution_count": null,
      "outputs": [
        {
          "output_type": "stream",
          "name": "stdout",
          "text": [
            "Index(['date_first_booking_year', 'date_first_booking_month',\n",
            "       'date_first_booking_day'],\n",
            "      dtype='object')\n",
            "3\n"
          ]
        }
      ]
    },
    {
      "cell_type": "code",
      "metadata": {
        "colab": {
          "base_uri": "https://localhost:8080/"
        },
        "id": "JFxTpQjPgcZB",
        "outputId": "7af7a410-acff-4019-d409-92aad839dcfe"
      },
      "source": [
        "xgb.fit(train_inputs[selected_feat], train_targets)"
      ],
      "execution_count": null,
      "outputs": [
        {
          "output_type": "execute_result",
          "data": {
            "text/plain": [
              "XGBClassifier(base_score=0.5, booster='gbtree', colsample_bylevel=1,\n",
              "              colsample_bynode=1, colsample_bytree=1, gamma=0,\n",
              "              learning_rate=0.05, max_delta_step=0, max_depth=50,\n",
              "              min_child_weight=1, missing=None, n_estimators=50, n_jobs=-1,\n",
              "              nthread=None, objective='multi:softprob', random_state=0,\n",
              "              reg_alpha=0, reg_lambda=1, scale_pos_weight=1, seed=None,\n",
              "              silent=None, subsample=1, use_label_encoder=False, verbosity=1)"
            ]
          },
          "metadata": {},
          "execution_count": 53
        }
      ]
    },
    {
      "cell_type": "code",
      "metadata": {
        "id": "3LjaboMdHx4c"
      },
      "source": [
        "train_preds = xgb.predict(train_inputs[selected_feat])\n",
        "val_preds = xgb.predict(val_inputs[selected_feat])\n",
        "from sklearn.metrics import accuracy_score\n",
        "train_acc = accuracy_score(train_targets, train_preds)\n",
        "val_acc = accuracy_score(val_targets, val_preds)"
      ],
      "execution_count": null,
      "outputs": []
    },
    {
      "cell_type": "code",
      "metadata": {
        "id": "3dlXAEWgUjTa",
        "colab": {
          "base_uri": "https://localhost:8080/"
        },
        "outputId": "85221b29-6be3-43da-b264-8870da6b8f12"
      },
      "source": [
        "print(\"Accuracy of training set using XGBoost is:\", train_acc)\n",
        "print(\"Accuracy of validation set using XGBoost is:\", val_acc)"
      ],
      "execution_count": null,
      "outputs": [
        {
          "output_type": "stream",
          "name": "stdout",
          "text": [
            "Accuracy of training set using XGBoost is: 0.876357795402068\n",
            "Accuracy of validation set using XGBoost is: 0.8743050783934037\n"
          ]
        }
      ]
    },
    {
      "cell_type": "markdown",
      "metadata": {
        "id": "mOv0PN_DmVk6"
      },
      "source": [
        "Let's try 100 n_estimators now"
      ]
    },
    {
      "cell_type": "code",
      "metadata": {
        "id": "NY-TipcqW41j"
      },
      "source": [
        "xgb_1 = XGBClassifier(n_estimators=100, use_label_encoder=False, max_depth=50, learning_rate=0.05, n_jobs=-1 )"
      ],
      "execution_count": null,
      "outputs": []
    },
    {
      "cell_type": "code",
      "metadata": {
        "colab": {
          "base_uri": "https://localhost:8080/"
        },
        "id": "jNlGZMPPblIr",
        "outputId": "24d92526-57be-4b09-b368-f89a8b384893"
      },
      "source": [
        "xgb_1.fit(train_inputs[selected_feat], train_targets)"
      ],
      "execution_count": null,
      "outputs": [
        {
          "output_type": "execute_result",
          "data": {
            "text/plain": [
              "XGBClassifier(base_score=0.5, booster='gbtree', colsample_bylevel=1,\n",
              "              colsample_bynode=1, colsample_bytree=1, gamma=0,\n",
              "              learning_rate=0.05, max_delta_step=0, max_depth=50,\n",
              "              min_child_weight=1, missing=None, n_estimators=100, n_jobs=-1,\n",
              "              nthread=None, objective='multi:softprob', random_state=0,\n",
              "              reg_alpha=0, reg_lambda=1, scale_pos_weight=1, seed=None,\n",
              "              silent=None, subsample=1, use_label_encoder=False, verbosity=1)"
            ]
          },
          "metadata": {},
          "execution_count": 63
        }
      ]
    },
    {
      "cell_type": "code",
      "metadata": {
        "id": "g6C7iiHibpZg"
      },
      "source": [
        "train_preds_1 = xgb_1.predict(train_inputs[selected_feat])\n",
        "val_preds_1 = xgb_1.predict(val_inputs[selected_feat])\n",
        "from sklearn.metrics import accuracy_score\n",
        "train_acc_1 = accuracy_score(train_targets, train_preds_1)\n",
        "val_acc_1 = accuracy_score(val_targets, val_preds_1)"
      ],
      "execution_count": null,
      "outputs": []
    },
    {
      "cell_type": "code",
      "metadata": {
        "colab": {
          "base_uri": "https://localhost:8080/"
        },
        "id": "9AZqRmuxcqK2",
        "outputId": "95acb907-ea6b-4c23-c0b6-769106ce8651"
      },
      "source": [
        "print(\"Accuracy of XGBoost on training set with 100 n_estimators is:\", train_acc_1)\n",
        "print(\"Accuracy of XGBoost on validation set with 100 n_estimators is:\", val_acc_1)"
      ],
      "execution_count": null,
      "outputs": [
        {
          "output_type": "stream",
          "name": "stdout",
          "text": [
            "Accuracy of XGBoost on training set with 100 n_estimators is: 0.8764514941605596\n",
            "Accuracy of XGBoost on validation set with 100 n_estimators is: 0.874148916234618\n"
          ]
        }
      ]
    },
    {
      "cell_type": "markdown",
      "metadata": {
        "id": "4sp8fH8lmeme"
      },
      "source": [
        "Trying decreasing learning rat to 0.01"
      ]
    },
    {
      "cell_type": "code",
      "metadata": {
        "id": "Qp7NEL7Vc8TE"
      },
      "source": [
        "xgb_2 = XGBClassifier(n_estimators=100, use_label_encoder=False, max_depth=50, learning_rate=0.01, n_jobs=-1 )"
      ],
      "execution_count": null,
      "outputs": []
    },
    {
      "cell_type": "code",
      "metadata": {
        "colab": {
          "base_uri": "https://localhost:8080/"
        },
        "id": "m6N7b7HSdEWf",
        "outputId": "fee5dac8-24b5-48d4-862f-7a3ac8a115a3"
      },
      "source": [
        "xgb_2.fit(train_inputs[selected_feat], train_targets)"
      ],
      "execution_count": null,
      "outputs": [
        {
          "output_type": "execute_result",
          "data": {
            "text/plain": [
              "XGBClassifier(base_score=0.5, booster='gbtree', colsample_bylevel=1,\n",
              "              colsample_bynode=1, colsample_bytree=1, gamma=0,\n",
              "              learning_rate=0.01, max_delta_step=0, max_depth=50,\n",
              "              min_child_weight=1, missing=None, n_estimators=100, n_jobs=-1,\n",
              "              nthread=None, objective='multi:softprob', random_state=0,\n",
              "              reg_alpha=0, reg_lambda=1, scale_pos_weight=1, seed=None,\n",
              "              silent=None, subsample=1, use_label_encoder=False, verbosity=1)"
            ]
          },
          "metadata": {},
          "execution_count": 67
        }
      ]
    },
    {
      "cell_type": "code",
      "metadata": {
        "id": "gEPsYTtIdI2P"
      },
      "source": [
        "train_preds_2 = xgb_2.predict(train_inputs[selected_feat])\n",
        "val_preds_2 = xgb_2.predict(val_inputs[selected_feat])\n",
        "from sklearn.metrics import accuracy_score\n",
        "train_acc_2 = accuracy_score(train_targets, train_preds_2)\n",
        "val_acc_2 = accuracy_score(val_targets, val_preds_2)"
      ],
      "execution_count": null,
      "outputs": []
    },
    {
      "cell_type": "code",
      "metadata": {
        "colab": {
          "base_uri": "https://localhost:8080/"
        },
        "id": "cdfwnVbIdtDA",
        "outputId": "bab6d4b5-6f15-4a29-e749-f4f9573a888d"
      },
      "source": [
        "print(\"Accuracy of XGBoost on training set with 100 n_estimators and 0.01 learning rate is:\", train_acc_2)\n",
        "print(\"Accuracy of XGBoost on validation set with 100 n_estimators and 0.01 learning rate is:\", val_acc_2)"
      ],
      "execution_count": null,
      "outputs": [
        {
          "output_type": "stream",
          "name": "stdout",
          "text": [
            "Accuracy of XGBoost on training set with 100 n_estimators and 0.01 learning rate is: 0.8762707894120403\n",
            "Accuracy of XGBoost on validation set with 100 n_estimators and 0.01 learning rate is: 0.874367543256918\n"
          ]
        }
      ]
    },
    {
      "cell_type": "markdown",
      "metadata": {
        "id": "YP2tJ2ChmtQ5"
      },
      "source": [
        "Try with 70 n_estimators"
      ]
    },
    {
      "cell_type": "code",
      "metadata": {
        "id": "d-fqdTPOd3qi"
      },
      "source": [
        "xgb_3 = XGBClassifier(n_estimators=70, use_label_encoder=False, max_depth=50, learning_rate=0.01, n_jobs=-1 )"
      ],
      "execution_count": null,
      "outputs": []
    },
    {
      "cell_type": "code",
      "metadata": {
        "colab": {
          "base_uri": "https://localhost:8080/"
        },
        "id": "XU0xN3OXeH0a",
        "outputId": "07512282-0eb8-427e-ae9c-2df3cfd20011"
      },
      "source": [
        "xgb_3.fit(train_inputs[selected_feat], train_targets)"
      ],
      "execution_count": null,
      "outputs": [
        {
          "output_type": "execute_result",
          "data": {
            "text/plain": [
              "XGBClassifier(base_score=0.5, booster='gbtree', colsample_bylevel=1,\n",
              "              colsample_bynode=1, colsample_bytree=1, gamma=0,\n",
              "              learning_rate=0.01, max_delta_step=0, max_depth=50,\n",
              "              min_child_weight=1, missing=None, n_estimators=70, n_jobs=-1,\n",
              "              nthread=None, objective='multi:softprob', random_state=0,\n",
              "              reg_alpha=0, reg_lambda=1, scale_pos_weight=1, seed=None,\n",
              "              silent=None, subsample=1, use_label_encoder=False, verbosity=1)"
            ]
          },
          "metadata": {},
          "execution_count": 71
        }
      ]
    },
    {
      "cell_type": "code",
      "metadata": {
        "id": "IpIZARB0eMAR"
      },
      "source": [
        "train_preds_3 = xgb_3.predict(train_inputs[selected_feat])\n",
        "val_preds_3 = xgb_3.predict(val_inputs[selected_feat])\n",
        "from sklearn.metrics import accuracy_score\n",
        "train_acc_3 = accuracy_score(train_targets, train_preds_3)\n",
        "val_acc_3 = accuracy_score(val_targets, val_preds_3)"
      ],
      "execution_count": null,
      "outputs": []
    },
    {
      "cell_type": "code",
      "metadata": {
        "colab": {
          "base_uri": "https://localhost:8080/"
        },
        "id": "ILU2p5cceVWS",
        "outputId": "2a78e4c3-1dee-430c-8f3c-f6e08b85b9c8"
      },
      "source": [
        "print(\"Accuracy of XGBoost on training set with 70 n_estimators and 0.01 learning rate is:\", train_acc_3)\n",
        "print(\"Accuracy of XGBoost on validation set with 70 n_estimators and 0.01 learning rate is:\", val_acc_3)"
      ],
      "execution_count": null,
      "outputs": [
        {
          "output_type": "stream",
          "name": "stdout",
          "text": [
            "Accuracy of XGBoost on training set with 70 n_estimators and 0.01 learning rate is: 0.8762707894120403\n",
            "Accuracy of XGBoost on validation set with 70 n_estimators and 0.01 learning rate is: 0.874367543256918\n"
          ]
        }
      ]
    },
    {
      "cell_type": "markdown",
      "metadata": {
        "id": "pLf08pfNmw4P"
      },
      "source": [
        "XGBoost performed best with 50 n_estimators and 0.05 learning rate"
      ]
    },
    {
      "cell_type": "markdown",
      "metadata": {
        "id": "Thj6aggNm-Nt"
      },
      "source": [
        "##Logistic Regression"
      ]
    },
    {
      "cell_type": "code",
      "metadata": {
        "colab": {
          "base_uri": "https://localhost:8080/"
        },
        "id": "N8e7Ajygeo6y",
        "outputId": "5e64b574-6664-4597-9775-62d2145e28fb"
      },
      "source": [
        "from sklearn.linear_model import LogisticRegression\n",
        "lr = LogisticRegression(solver=\"liblinear\", random_state=42)\n",
        "lr.fit(train_inputs[selected_feat], train_targets)\n",
        "lr_preds = lr.predict(train_inputs[selected_feat])\n",
        "lr_val_preds = lr.predict(val_inputs[selected_feat])\n",
        "lr_pred_acc = accuracy_score(train_targets, lr_preds)\n",
        "lr_pred_val_acc = accuracy_score(val_targets, lr_val_preds)\n",
        "print(\"Accuracy of Logistic Regression on training set is:\", lr_pred_acc)\n",
        "print(\"Accuracy of Logistic Regression on validation set is:\", lr_pred_val_acc)"
      ],
      "execution_count": null,
      "outputs": [
        {
          "output_type": "stream",
          "name": "stdout",
          "text": [
            "Accuracy of Logistic Regression on training set is: 0.8762707894120403\n",
            "Accuracy of Logistic Regression on validation set is: 0.874367543256918\n"
          ]
        }
      ]
    },
    {
      "cell_type": "markdown",
      "metadata": {
        "id": "5zRsNrPEnF0Y"
      },
      "source": [
        "Lets try changing solver to sag"
      ]
    },
    {
      "cell_type": "code",
      "metadata": {
        "colab": {
          "base_uri": "https://localhost:8080/"
        },
        "id": "44YbfhFpfu8W",
        "outputId": "ebaaf04d-aeb0-4bdb-9ec8-88296afa22dd"
      },
      "source": [
        "lr = LogisticRegression(solver=\"sag\", random_state=42)\n",
        "lr.fit(train_inputs[selected_feat], train_targets)\n",
        "lr_preds = lr.predict(train_inputs[selected_feat])\n",
        "lr_val_preds = lr.predict(val_inputs[selected_feat])\n",
        "lr_pred_acc = accuracy_score(train_targets, lr_preds)\n",
        "lr_pred_val_acc = accuracy_score(val_targets, lr_val_preds)\n",
        "print(\"Accuracy of Logistic Regression on training set is:\", lr_pred_acc)\n",
        "print(\"Accuracy of Logistic Regression on validation set is:\", lr_pred_val_acc)"
      ],
      "execution_count": null,
      "outputs": [
        {
          "output_type": "stream",
          "name": "stdout",
          "text": [
            "Accuracy of Logistic Regression on training set is: 0.8762707894120403\n",
            "Accuracy of Logistic Regression on validation set is: 0.874367543256918\n"
          ]
        }
      ]
    },
    {
      "cell_type": "markdown",
      "metadata": {
        "id": "RotPA8SvnL6Y"
      },
      "source": [
        "Best performing model is XGBoost with 50 n_estimators and 0.05 learning rate. Gives 87.63% accuracy on training set and 87.42% accuracy on validation set"
      ]
    },
    {
      "cell_type": "code",
      "metadata": {
        "colab": {
          "base_uri": "https://localhost:8080/",
          "height": 86
        },
        "id": "Xxv_-DRDf4D_",
        "outputId": "8f49e47d-b149-4d66-8ea7-be6c5534be38"
      },
      "source": [
        "jovian.commit()"
      ],
      "execution_count": null,
      "outputs": [
        {
          "output_type": "stream",
          "name": "stdout",
          "text": [
            "[jovian] Detected Colab notebook...\u001b[0m\n",
            "[jovian] Uploading colab notebook to Jovian...\u001b[0m\n",
            "Committed successfully! https://jovian.ai/toobajamal/airbnb-new-user-bookings\n"
          ]
        },
        {
          "output_type": "execute_result",
          "data": {
            "application/vnd.google.colaboratory.intrinsic+json": {
              "type": "string"
            },
            "text/plain": [
              "'https://jovian.ai/toobajamal/airbnb-new-user-bookings'"
            ]
          },
          "metadata": {},
          "execution_count": 80
        }
      ]
    },
    {
      "cell_type": "code",
      "metadata": {
        "id": "-HLmuzqHgwU-"
      },
      "source": [
        ""
      ],
      "execution_count": null,
      "outputs": []
    }
  ]
}